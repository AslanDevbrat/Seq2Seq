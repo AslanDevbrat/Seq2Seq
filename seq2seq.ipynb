{
  "cells": [
    {
      "cell_type": "markdown",
      "metadata": {
        "id": "view-in-github",
        "colab_type": "text"
      },
      "source": [
        "<a href=\"https://colab.research.google.com/github/AslanDevbrat/Seq2Seq/blob/main/seq2seq.ipynb\" target=\"_parent\"><img src=\"https://colab.research.google.com/assets/colab-badge.svg\" alt=\"Open In Colab\"/></a>"
      ]
    },
    {
      "cell_type": "markdown",
      "metadata": {
        "id": "lL-NTN5JAQeG"
      },
      "source": [
        "# Character-level recurrent sequence-to-sequence model\n",
        "\n",
        "**Author:** [fchollet](https://twitter.com/fchollet)<br>\n",
        "**Date created:** 2017/09/29<br>\n",
        "**Last modified:** 2020/04/26<br>\n",
        "**Description:** Character-level recurrent sequence-to-sequence model."
      ]
    },
    {
      "cell_type": "markdown",
      "metadata": {
        "id": "H97iiBQqAQeT"
      },
      "source": [
        "## Introduction\n",
        "\n",
        "This example demonstrates how to implement a basic character-level\n",
        "recurrent sequence-to-sequence model. We apply it to translating\n",
        "short English sentences into short French sentences,\n",
        "character-by-character. Note that it is fairly unusual to\n",
        "do character-level machine translation, as word-level\n",
        "models are more common in this domain.\n",
        "\n",
        "**Summary of the algorithm**\n",
        "\n",
        "- We start with input sequences from a domain (e.g. English sentences)\n",
        "    and corresponding target sequences from another domain\n",
        "    (e.g. French sentences).\n",
        "- An encoder LSTM turns input sequences to 2 state vectors\n",
        "    (we keep the last LSTM state and discard the outputs).\n",
        "- A decoder LSTM is trained to turn the target sequences into\n",
        "    the same sequence but offset by one timestep in the future,\n",
        "    a training process called \"teacher forcing\" in this context.\n",
        "    It uses as initial state the state vectors from the encoder.\n",
        "    Effectively, the decoder learns to generate `targets[t+1...]`\n",
        "    given `targets[...t]`, conditioned on the input sequence.\n",
        "- In inference mode, when we want to decode unknown input sequences, we:\n",
        "    - Encode the input sequence into state vectors\n",
        "    - Start with a target sequence of size 1\n",
        "        (just the start-of-sequence character)\n",
        "    - Feed the state vectors and 1-char target sequence\n",
        "        to the decoder to produce predictions for the next character\n",
        "    - Sample the next character using these predictions\n",
        "        (we simply use argmax).\n",
        "    - Append the sampled character to the target sequence\n",
        "    - Repeat until we generate the end-of-sequence character or we\n",
        "        hit the character limit.\n"
      ]
    },
    {
      "cell_type": "markdown",
      "metadata": {
        "id": "XtD33RcAAQeV"
      },
      "source": [
        "## Setup\n"
      ]
    },
    {
      "cell_type": "code",
      "execution_count": 1,
      "metadata": {
        "id": "EnvOeSibAQeV"
      },
      "outputs": [],
      "source": [
        "import numpy as np\n",
        "import tensorflow as tf\n",
        "from tensorflow import keras\n",
        "from tensorflow.keras.layers import Embedding, SimpleRNNCell, GRUCell, Dense, LSTMCell\n",
        "from tensorflow.keras import Input\n",
        "import pandas as pd"
      ]
    },
    {
      "cell_type": "markdown",
      "metadata": {
        "id": "NbOpYTqYAQeX"
      },
      "source": [
        "## Download the data\n"
      ]
    },
    {
      "cell_type": "code",
      "execution_count": null,
      "metadata": {
        "colab": {
          "base_uri": "https://localhost:8080/"
        },
        "id": "Nrnv1ar0AQeY",
        "outputId": "d078c0b9-fe1c-4bcd-dfd7-f50df0700cbb"
      },
      "outputs": [
        {
          "output_type": "execute_result",
          "data": {
            "text/plain": [
              "['Archive:  fra-eng.zip',\n",
              " '  inflating: _about.txt              ',\n",
              " '  inflating: fra.txt                 ']"
            ]
          },
          "metadata": {},
          "execution_count": 2
        }
      ],
      "source": [
        "!!curl -O http://www.manythings.org/anki/fra-eng.zip\n",
        "!!unzip fra-eng.zip\n"
      ]
    },
    {
      "cell_type": "markdown",
      "metadata": {
        "id": "1rKnaKIZAQeZ"
      },
      "source": [
        "## Configuration\n"
      ]
    },
    {
      "cell_type": "code",
      "source": [
        "!wget  https://storage.googleapis.com/gresearch/dakshina/dakshina_dataset_v1.0.tar\n",
        "!tar -xf 'dakshina_dataset_v1.0.tar'\n",
        "train_file_path = \"/content/dakshina_dataset_v1.0/hi/lexicons/hi.translit.sampled.train.tsv\"\n",
        "val_file_path= \"/content/dakshina_dataset_v1.0/hi/lexicons/hi.translit.sampled.test.tsv\"\n",
        "test_file_path  = \"/content/dakshina_dataset_v1.0/hi/lexicons/hi.translit.sampled.dev.tsv\""
      ],
      "metadata": {
        "colab": {
          "base_uri": "https://localhost:8080/"
        },
        "id": "roFBlOuMAYkx",
        "outputId": "5e30d9ba-9eca-433b-922e-7745850c4e64"
      },
      "execution_count": 2,
      "outputs": [
        {
          "output_type": "stream",
          "name": "stdout",
          "text": [
            "--2022-06-18 09:55:28--  https://storage.googleapis.com/gresearch/dakshina/dakshina_dataset_v1.0.tar\n",
            "Resolving storage.googleapis.com (storage.googleapis.com)... 173.194.216.128, 173.194.217.128, 74.125.26.128, ...\n",
            "Connecting to storage.googleapis.com (storage.googleapis.com)|173.194.216.128|:443... connected.\n",
            "HTTP request sent, awaiting response... 200 OK\n",
            "Length: 2008340480 (1.9G) [application/x-tar]\n",
            "Saving to: ‘dakshina_dataset_v1.0.tar’\n",
            "\n",
            "dakshina_dataset_v1 100%[===================>]   1.87G   147MB/s    in 14s     \n",
            "\n",
            "2022-06-18 09:55:42 (138 MB/s) - ‘dakshina_dataset_v1.0.tar’ saved [2008340480/2008340480]\n",
            "\n"
          ]
        }
      ]
    },
    {
      "cell_type": "code",
      "execution_count": 3,
      "metadata": {
        "id": "akMCxfVHAQeZ"
      },
      "outputs": [],
      "source": [
        "batch_size = 64  # Batch size for training.\n",
        "epochs = 100  # Number of epochs to train for.\n",
        "latent_dim = 256  # Latent dimensionality of the encoding space.\n",
        "num_samples = 100  # Number of samples to train on.\n",
        "# Path to the data txt file on disk.\n",
        "data_path = train_file_path\n"
      ]
    },
    {
      "cell_type": "markdown",
      "metadata": {
        "id": "U-3Djb36AQea"
      },
      "source": [
        "## Prepare the data\n"
      ]
    },
    {
      "cell_type": "code",
      "source": [
        "x = None\n",
        "y =None"
      ],
      "metadata": {
        "id": "UQv5oAAHBwzT"
      },
      "execution_count": null,
      "outputs": []
    },
    {
      "cell_type": "code",
      "source": [
        "class NMTDataset:\n",
        "    def __init__(self, problem_type='en-hi'):\n",
        "        self.problem_type = 'en-'\n",
        "        self.inp_lang_tokenizer = None\n",
        "        self.targ_lang_tokenizer = None\n",
        "    \n",
        "\n",
        "    def unicode_to_ascii(self, s):\n",
        "        return ''.join(c for c in unicodedata.normalize('NFD', s) if unicodedata.category(c) != 'Mn')\n",
        "\n",
        "    ## Step 1 and Step 2 \n",
        "    def preprocess_sentence(self, w):\n",
        "\n",
        "        w = '\\t' + w + '\\n'\n",
        "        \n",
        "        return w\n",
        "    \n",
        "    def create_dataset(self, path, num_examples):\n",
        "        # path : path to spa-eng.txt file\n",
        "        # num_examples : Limit the total number of training example for faster training (set num_examples = len(lines) to use full data)\n",
        "        #lines = io.open(path, encoding='UTF-8').read().strip().split('\\n')\n",
        "        #word_pairs = [[self.preprocess_sentence(w) for w in l.split('\\t')]  for l in lines[:num_examples]]\n",
        "        data =  pd.read_csv(path,delimiter=\"\\t\", header= None, nrows = num_examples )\n",
        "        data = data.dropna()\n",
        "        print(data.info())\n",
        "        return data[0].apply(self.preprocess_sentence).values.astype(str), data[1].apply(self.preprocess_sentence).values.astype(str)\n",
        "\n",
        "    # Step 3 and Step 4\n",
        "    def tokenize(self, lang):\n",
        "        # lang = list of sentences in a language\n",
        "        \n",
        "        # print(len(lang), \"example sentence: {}\".format(lang[0]))\n",
        "        lang_tokenizer = tf.keras.preprocessing.text.Tokenizer(char_level = True)\n",
        "        lang_tokenizer.fit_on_texts(lang)\n",
        "\n",
        "        ## tf.keras.preprocessing.text.Tokenizer.texts_to_sequences converts string (w1, w2, w3, ......, wn) \n",
        "        ## to a list of correspoding integer ids of words (id_w1, id_w2, id_w3, ...., id_wn)\n",
        "        tensor = lang_tokenizer.texts_to_sequences(lang) \n",
        "\n",
        "        ## tf.keras.preprocessing.sequence.pad_sequences takes argument a list of integer id sequences \n",
        "        ## and pads the sequences to match the longest sequences in the given input\n",
        "        tensor = tf.keras.preprocessing.sequence.pad_sequences(tensor, padding='post')\n",
        "\n",
        "        return tensor, lang_tokenizer\n",
        "\n",
        "    def load_dataset(self, path, num_examples=None):\n",
        "        # creating cleaned input, output pairs\n",
        "        targ_lang, inp_lang = self.create_dataset(path, num_examples)\n",
        "\n",
        "        input_tensor, inp_lang_tokenizer = self.tokenize(inp_lang)\n",
        "        target_tensor, targ_lang_tokenizer = self.tokenize(targ_lang)\n",
        "\n",
        "        return input_tensor, target_tensor, inp_lang_tokenizer, targ_lang_tokenizer\n",
        "\n",
        "    def call(self, num_examples, BUFFER_SIZE, BATCH_SIZE):\n",
        "        #file_path = download_dakshina()\n",
        "        input_tensor_train, target_tensor_train, self.inp_lang_tokenizer, self.targ_lang_tokenizer = self.load_dataset(train_file_path, num_examples)\n",
        "        input_tensor_val, target_tensor_val, self.inp_lang_tokenizer, self.targ_lang_tokenizer = self.load_dataset(val_file_path, num_examples)\n",
        "        input_tensor_test, target_tensor_test, self.inp_lang_tokenizer, self.targ_lang_tokenizer = self.load_dataset(test_file_path, num_examples)\n",
        "        x = input_tensor_train\n",
        "        y  =target_tensor_train\n",
        "        #input_tensor_train, input_tensor_val, target_tensor_train, target_tensor_val = train_test_split(input_tensor, target_tensor, test_size=0.4)\n",
        "\n",
        "        train_dataset = tf.data.Dataset.zip(( tf.data.Dataset.from_tensor_slices(input_tensor_train),  tf.data.Dataset.from_tensor_slices(target_tensor_train)))\n",
        "        #train_dataset = train_dataset.shuffle(BUFFER_SIZE)\n",
        "\n",
        "        val_dataset = tf.data.Dataset.from_tensor_slices((input_tensor_val, target_tensor_val))\n",
        "        val_dataset = val_dataset.batch(BATCH_SIZE, drop_remainder=True)\n",
        "\n",
        "        test_dataset = tf.data.Dataset.from_tensor_slices((input_tensor_test, target_tensor_test))\n",
        "        test_dataset = test_dataset.batch(BATCH_SIZE, drop_remainder=True)\n",
        "        return train_dataset, val_dataset, test_dataset, self.inp_lang_tokenizer, self.targ_lang_tokenizer"
      ],
      "metadata": {
        "id": "AxXNBNO57QH7"
      },
      "execution_count": 10,
      "outputs": []
    },
    {
      "cell_type": "code",
      "source": [
        "BUFFER_SIZE = 32000\n",
        "BATCH_SIZE = 64\n",
        "# Let's limit the #training examples for faster training\n",
        "num_examples = 300000\n",
        "\n",
        "dataset_creator = NMTDataset('en-spa')\n",
        "train_dataset, val_dataset,test_dataset, inp_lang, targ_lang = dataset_creator.call(num_examples, BUFFER_SIZE, BATCH_SIZE)"
      ],
      "metadata": {
        "id": "3QYiwF3e7T8n",
        "outputId": "25257c3d-53c9-417e-abbd-4282aec41206",
        "colab": {
          "base_uri": "https://localhost:8080/"
        }
      },
      "execution_count": 11,
      "outputs": [
        {
          "output_type": "stream",
          "name": "stdout",
          "text": [
            "<class 'pandas.core.frame.DataFrame'>\n",
            "Int64Index: 44202 entries, 0 to 44203\n",
            "Data columns (total 3 columns):\n",
            " #   Column  Non-Null Count  Dtype \n",
            "---  ------  --------------  ----- \n",
            " 0   0       44202 non-null  object\n",
            " 1   1       44202 non-null  object\n",
            " 2   2       44202 non-null  int64 \n",
            "dtypes: int64(1), object(2)\n",
            "memory usage: 1.3+ MB\n",
            "None\n",
            "<class 'pandas.core.frame.DataFrame'>\n",
            "Int64Index: 4502 entries, 0 to 4501\n",
            "Data columns (total 3 columns):\n",
            " #   Column  Non-Null Count  Dtype \n",
            "---  ------  --------------  ----- \n",
            " 0   0       4502 non-null   object\n",
            " 1   1       4502 non-null   object\n",
            " 2   2       4502 non-null   int64 \n",
            "dtypes: int64(1), object(2)\n",
            "memory usage: 140.7+ KB\n",
            "None\n",
            "<class 'pandas.core.frame.DataFrame'>\n",
            "Int64Index: 4358 entries, 0 to 4357\n",
            "Data columns (total 3 columns):\n",
            " #   Column  Non-Null Count  Dtype \n",
            "---  ------  --------------  ----- \n",
            " 0   0       4358 non-null   object\n",
            " 1   1       4358 non-null   object\n",
            " 2   2       4358 non-null   int64 \n",
            "dtypes: int64(1), object(2)\n",
            "memory usage: 136.2+ KB\n",
            "None\n"
          ]
        }
      ]
    },
    {
      "cell_type": "code",
      "source": [
        "targ_lang.word_index"
      ],
      "metadata": {
        "id": "WHjjnyyKAyZU"
      },
      "execution_count": null,
      "outputs": []
    },
    {
      "cell_type": "code",
      "execution_count": 75,
      "metadata": {
        "colab": {
          "base_uri": "https://localhost:8080/"
        },
        "id": "gvMpU9FzAQeb",
        "outputId": "cad0a2e2-126d-4581-9006-5513067b2986"
      },
      "outputs": [
        {
          "output_type": "stream",
          "name": "stdout",
          "text": [
            "Number of samples: 100\n",
            "Number of unique input tokens: 23\n",
            "Number of unique output tokens: 34\n",
            "Max sequence length for inputs: 18\n",
            "Max sequence length for outputs: 17\n",
            "(100, 18, 23)\n",
            "{'a': 0, 'b': 1, 'c': 2, 'd': 3, 'e': 4, 'g': 5, 'h': 6, 'i': 7, 'j': 8, 'k': 9, 'l': 10, 'm': 11, 'n': 12, 'o': 13, 'p': 14, 'r': 15, 's': 16, 't': 17, 'u': 18, 'v': 19, 'w': 20, 'y': 21, 'z': 22}\n",
            "{'\\t': 0, '\\n': 1, 'ं': 2, 'ः': 3, 'अ': 4, 'क': 5, 'ग': 6, 'च': 7, 'ज': 8, 'ट': 9, 'ठ': 10, 'ड': 11, 'ण': 12, 'त': 13, 'द': 14, 'न': 15, 'प': 16, 'भ': 17, 'म': 18, 'य': 19, 'र': 20, 'ल': 21, 'व': 22, 'श': 23, 'ष': 24, 'ह': 25, 'ा': 26, 'ि': 27, 'ी': 28, 'ु': 29, 'ू': 30, 'े': 31, 'ो': 32, '्': 33}\n"
          ]
        }
      ],
      "source": [
        "# Vectorize the data.\n",
        "input_texts = []\n",
        "target_texts = []\n",
        "input_characters = set()\n",
        "target_characters = set()\n",
        "with open(data_path, \"r\", encoding=\"utf-8\") as f:\n",
        "    lines = f.read().split(\"\\n\")\n",
        "for line in lines[: min(num_samples, len(lines) - 1)]:\n",
        "    target_text, input_text, _ = line.split(\"\\t\")\n",
        "    # We use \"tab\" as the \"start sequence\" character\n",
        "    # for the targets, and \"\\n\" as \"end sequence\" character.\n",
        "    target_text = \"\\t\" + target_text + \"\\n\"\n",
        "    input_texts.append(input_text)\n",
        "    target_texts.append(target_text)\n",
        "    for char in input_text:\n",
        "        if char not in input_characters:\n",
        "            input_characters.add(char)\n",
        "    for char in target_text:\n",
        "        if char not in target_characters:\n",
        "            target_characters.add(char)\n",
        "\n",
        "input_characters = sorted(list(input_characters))\n",
        "target_characters = sorted(list(target_characters))\n",
        "num_encoder_tokens = len(input_characters)\n",
        "num_decoder_tokens = len(target_characters)\n",
        "max_encoder_seq_length = max([len(txt) for txt in input_texts])\n",
        "max_decoder_seq_length = max([len(txt) for txt in target_texts])\n",
        "\n",
        "print(\"Number of samples:\", len(input_texts))\n",
        "print(\"Number of unique input tokens:\", num_encoder_tokens)\n",
        "print(\"Number of unique output tokens:\", num_decoder_tokens)\n",
        "print(\"Max sequence length for inputs:\", max_encoder_seq_length)\n",
        "print(\"Max sequence length for outputs:\", max_decoder_seq_length)\n",
        "\n",
        "input_token_index = dict([(char, i) for i, char in enumerate(input_characters)])\n",
        "target_token_index = dict([(char, i) for i, char in enumerate(target_characters)])\n",
        "\n",
        "encoder_input_data = np.zeros(\n",
        "    (len(input_texts), max_encoder_seq_length, num_encoder_tokens), dtype=\"float32\"\n",
        ")\n",
        "decoder_input_data = np.zeros(\n",
        "    (len(input_texts), max_decoder_seq_length, num_decoder_tokens), dtype=\"float32\"\n",
        ")\n",
        "decoder_target_data = np.zeros(\n",
        "    (len(input_texts), max_decoder_seq_length, num_decoder_tokens), dtype=\"float32\"\n",
        ")\n",
        "\n",
        "print(encoder_input_data.shape)\n",
        "print(input_token_index)\n",
        "print(target_token_index)\n",
        "\n",
        "\n",
        "\n",
        "for i, (input_text, target_text) in enumerate(zip(input_texts, target_texts)):\n",
        "    #print(input_text, target_text)\n",
        "    for t, char in enumerate(input_text):\n",
        "        encoder_input_data[i, t, input_token_index[char]] = 1.0\n",
        "        #print(encoder_input_data)\n",
        "    #encoder_input_data[i, t + 1 :, input_token_index[\" \"]] = 1.0\n",
        "    for t, char in enumerate(target_text):\n",
        "        # decoder_target_data is ahead of decoder_input_data by one timestep\n",
        "        decoder_input_data[i, t, target_token_index[char]] = 1.0\n",
        "        if t > 0:\n",
        "            # decoder_target_data will be ahead by one timestep\n",
        "            # and will not include the start character.\n",
        "            decoder_target_data[i, t - 1, target_token_index[char]] = 1.0\n",
        "    #decoder_input_data[i, t + 1 :, target_token_index[\" \"]] = 1.0\n",
        "    #decoder_target_data[i, t:, target_token_index[\" \"]] = 1.0\n"
      ]
    },
    {
      "cell_type": "code",
      "source": [
        "def processData(filename,input_chars=set(),target_chars=set()):\n",
        "  input=[]\n",
        "  target=[]\n",
        "  with open(filename, \"r\", encoding=\"utf-8\") as f:\n",
        "    lines = f.read().split(\"\\n\")\n",
        "  for line in lines[:len(lines)-1]:\n",
        "      t_text,i_text, attestation = line.split(\"\\t\")\n",
        "       # We use \"\\t\" as the \"start sequence\" character and \"\\n\" as \"end sequence\" character for the target text.\n",
        "      input.append(i_text)\n",
        "      target.append(\"\\t\"+t_text+\"\\n\")\n",
        "      for char in i_text:\n",
        "        if char not in input_chars:\n",
        "            input_chars.add(char)\n",
        "      for char in t_text:\n",
        "        if char not in target_chars:\n",
        "            target_chars.add(char)\n",
        "  target_chars.add(\"\\t\")\n",
        "  target_chars.add(\"\\n\")\n",
        "  input_chars.add(\"$\")\n",
        "  target_chars.add(\"-\")\n",
        "  target_chars.add(\"$\")\n",
        "  target_chars.add(\"?\")\n",
        "  input_chars.add(\"-\")\n",
        "  input_chars.add(\"-\")\n",
        "  input_chars = sorted(list(input_chars))\n",
        "  target_chars = sorted(list(target_chars))\n",
        "  num_encoder_tokens = len(input_chars)\n",
        "  num_decoder_tokens = len(target_chars)\n",
        "  max_encoder_seq_length = max([len(txt) for txt in input])\n",
        "  max_decoder_seq_length = max([len(txt) for txt in target])\n",
        "  return input,target,input_chars,target_chars,num_encoder_tokens,num_decoder_tokens, max_encoder_seq_length, max_decoder_seq_length     "
      ],
      "metadata": {
        "id": "5CZtxlJmaYmb"
      },
      "execution_count": 124,
      "outputs": []
    },
    {
      "cell_type": "code",
      "source": [
        "# Vectorize the data.\n",
        "input,target,input_chars,target_chars,num_encoder_tokens,num_decoder_tokens, max_encoder_seq_length, max_decoder_seq_length=processData(train_file_path)\n",
        "print(\"Number of samples:\", len(input))\n",
        "print(\"Number of unique input tokens:\", num_encoder_tokens)\n",
        "print(\"Number of unique output tokens:\", num_decoder_tokens)\n",
        "print(\"Max sequence length for inputs:\", max_encoder_seq_length)\n",
        "print(\"Max sequence length for outputs:\", max_decoder_seq_length)"
      ],
      "metadata": {
        "id": "pg8AcuMoab8U",
        "outputId": "86d5f3ea-af39-4aed-e4f3-605441d7cd4e",
        "colab": {
          "base_uri": "https://localhost:8080/"
        }
      },
      "execution_count": 125,
      "outputs": [
        {
          "output_type": "stream",
          "name": "stdout",
          "text": [
            "Number of samples: 44204\n",
            "Number of unique input tokens: 28\n",
            "Number of unique output tokens: 68\n",
            "Max sequence length for inputs: 20\n",
            "Max sequence length for outputs: 21\n"
          ]
        }
      ]
    },
    {
      "cell_type": "markdown",
      "metadata": {
        "id": "eGM50wwWAQed"
      },
      "source": [
        "## Build the model\n"
      ]
    },
    {
      "cell_type": "code",
      "source": [
        "# Vectorize the data.\n",
        "# Vectorize the data.\n",
        "validation_input,validation_target,input_chars,target_chars,num_encoder_tokens,num_decoder_tokens, validation_max_encoder_seq_length, validation_max_decoder_seq_length=processData(val_file_path,set(input_chars),set(target_chars))\n",
        "\n",
        "print(\"Number of validation samples:\", len(validation_input))\n",
        "print(\"Number of unique input tokens:\", num_encoder_tokens)\n",
        "print(\"Number of unique output tokens:\", num_decoder_tokens)\n",
        "print(\"validation Max sequence length for inputs:\", validation_max_encoder_seq_length)\n",
        "print(\"validation Max sequence length for outputs:\", validation_max_decoder_seq_length)"
      ],
      "metadata": {
        "id": "lmCnQKWNbsuh",
        "outputId": "baa90cf7-39bc-4bc7-968c-c0f329bb27c9",
        "colab": {
          "base_uri": "https://localhost:8080/"
        }
      },
      "execution_count": 126,
      "outputs": [
        {
          "output_type": "stream",
          "name": "stdout",
          "text": [
            "Number of validation samples: 4502\n",
            "Number of unique input tokens: 28\n",
            "Number of unique output tokens: 68\n",
            "validation Max sequence length for inputs: 16\n",
            "validation Max sequence length for outputs: 17\n"
          ]
        }
      ]
    },
    {
      "cell_type": "code",
      "source": [
        "# Vectorize the data.\n",
        "test_input,test_target,test_input_chars,test_target_chars,test_num_encoder_tokens,test_num_decoder_tokens, test_max_encoder_seq_length, test_max_decoder_seq_length=processData(test_file_path)\n",
        "print(\"Number of validation samples:\", len(test_input))\n",
        "print(\"Test Max sequence length for inputs:\", test_max_encoder_seq_length)\n",
        "print(\"Test Max sequence length for outputs:\", test_max_decoder_seq_length)"
      ],
      "metadata": {
        "id": "Q9tUFlovbz5i",
        "outputId": "d167a774-474e-4464-b36b-0a2a8b863e8d",
        "colab": {
          "base_uri": "https://localhost:8080/"
        }
      },
      "execution_count": 127,
      "outputs": [
        {
          "output_type": "stream",
          "name": "stdout",
          "text": [
            "Number of validation samples: 4358\n",
            "Test Max sequence length for inputs: 18\n",
            "Test Max sequence length for outputs: 16\n"
          ]
        }
      ]
    },
    {
      "cell_type": "code",
      "source": [
        "input_token = dict([(char, i) for i, char in enumerate(input_chars)])\n",
        "target_token = dict([(char, i) for i, char in enumerate(target_chars)])\n",
        "\n",
        "reverse_input_token = dict((i, char) for char, i in input_token.items())\n",
        "reverse_target_token = dict((i, char) for char, i in target_token.items())\n",
        "\n",
        "\n",
        "encoder_input_data = np.zeros(\n",
        "    (len(input), max_encoder_seq_length, num_encoder_tokens), dtype=\"float32\"\n",
        ")\n",
        "validation_encoder_input_data=np.zeros(\n",
        "    (len(validation_input), max_encoder_seq_length, num_encoder_tokens), dtype=\"float32\"\n",
        ")\n",
        "test_encoder_input_data=np.zeros(\n",
        "    (len(test_input), max_encoder_seq_length, num_encoder_tokens), dtype=\"float32\"\n",
        ")\n",
        "decoder_input_data = np.zeros(\n",
        "    (len(input), max_decoder_seq_length, num_decoder_tokens), dtype=\"float32\"\n",
        ")\n",
        "validation_decoder_input_data =np.zeros(\n",
        "    (len(validation_input), max_decoder_seq_length, num_decoder_tokens), dtype=\"float32\"\n",
        ")\n",
        "decoder_target_data = np.zeros(\n",
        "    (len(input), max_decoder_seq_length, num_decoder_tokens), dtype=\"float32\"\n",
        ")\n",
        "validation_decoder_target_data = np.zeros(\n",
        "    (len(validation_input), max_decoder_seq_length, num_decoder_tokens), dtype=\"float32\"\n",
        ")\n",
        "\n",
        "for i, (input_text, target_text) in enumerate(zip(input, target)):\n",
        "    for t, char in enumerate(input_text):\n",
        "        encoder_input_data[i, t, input_token[char]] = 1.0\n",
        "    for t, char in enumerate(target_text):\n",
        "        # decoder_target_data is ahead of decoder_input_data by one timestep\n",
        "        decoder_input_data[i, t, target_token[char]] = 1.0\n",
        "        if t > 0:\n",
        "            # decoder_target_data will be ahead by one timestep\n",
        "            # and will not include the start character.\n",
        "            decoder_target_data[i, t - 1, target_token[char]] = 1.0\n",
        "# for validation data\n",
        "for i, (validation_input_text, validation_target_text) in enumerate(zip(validation_input, validation_target)):\n",
        "    for t, char in enumerate(validation_input_text):\n",
        "        validation_encoder_input_data[i, t, input_token[char]] = 1.0\n",
        "    for t, char in enumerate(validation_target_text):\n",
        "        # decoder_target_data is ahead of decoder_input_data by one timestep\n",
        "        validation_decoder_input_data[i, t, target_token[char]] = 1.0\n",
        "        if t > 0:\n",
        "            # decoder_target_data will be ahead by one timestep\n",
        "            # and will not include the start character.\n",
        "            validation_decoder_target_data[i, t - 1, target_token[char]] = 1.0\n",
        "\n",
        "# for test data\n",
        "for i, (test_input_text, test_target_text) in enumerate(zip(test_input, test_target)):\n",
        "    for t, char in enumerate(test_input_text):\n",
        "        test_encoder_input_data[i, t, input_token[char]] = 1.0"
      ],
      "metadata": {
        "id": "oBF7Cdqrb5Hc"
      },
      "execution_count": 201,
      "outputs": []
    },
    {
      "cell_type": "code",
      "source": [
        "encoder_input_data.shape"
      ],
      "metadata": {
        "colab": {
          "base_uri": "https://localhost:8080/"
        },
        "id": "2q7AdDj4P_8p",
        "outputId": "387f0f59-4f2f-4fb3-846b-bd5c511e19d9"
      },
      "execution_count": 90,
      "outputs": [
        {
          "output_type": "execute_result",
          "data": {
            "text/plain": [
              "(44204, 20, 26)"
            ]
          },
          "metadata": {},
          "execution_count": 90
        }
      ]
    },
    {
      "cell_type": "code",
      "source": [
        "class Seq2seq(tf.keras.Model):\n",
        "  def __init__(self, num_encoder_tokens, num_decoder_tokens,embedding_dim,num_of_layers,unit_type):\n",
        "    super().__init__()\n",
        "    self.encoder_inputs = Input(shape = (None,num_encoder_tokens))\n",
        "    self.decoder_inputs = keras.Input(shape=(None, num_decoder_tokens))\n",
        "    self.num_encoder_tokens = num_encoder_tokens\n",
        "    self.embedding_dim = embedding_dim\n",
        "    self.num_decoder_tokens = num_decoder_tokens\n",
        "    self.num_of_encoder_layer  =num_of_layers\n",
        "    self.num_of_decoder_layer =num_of_layers\n",
        "    self.type_encoder_unit =unit_type \n",
        "    self.type_decoder_unit =unit_type\n",
        "    self.train_step()\n",
        "    self.build_model()\n",
        "\n",
        "  def get_embedding_layer(self, num_encoder_tokens, embedding_dim):\n",
        "    return Embedding(num_encoder_tokens, embedding_dim, )\n",
        "\n",
        "  def get_cell(self, cell_type = \"lstm\", num_of_cell = 1, name = None):\n",
        "    #print(cell_type)\n",
        "    if cell_type == \"lstm\":\n",
        "      return LSTMCell(num_of_cell,)\n",
        "    elif cell_type == \"rnn\":\n",
        "      return SimpleRNNCell(num_of_cell,)\n",
        "    elif cell_type ==\"gru\":\n",
        "      return GRUCell(num_of_cell)\n",
        "    else:\n",
        "      print(f\"Invalid cell type: {cell_type}\")\n",
        "  def get_encoder(self,latent_dim, cell_type = \"lstm\", num_of_layer = 1, ):\n",
        "    return tf.keras.layers.RNN(tf.keras.layers.StackedRNNCells( [self.get_cell(cell_type, latent_dim) for i in range(num_of_layer)]), return_state = True,)\n",
        "\n",
        "  def get_decoder(self,latent_dim ,cell_type = \"lstm\", num_of_layer = 1, name = None ):\n",
        "    return tf.keras.layers.RNN(tf.keras.layers.StackedRNNCells( [self.get_cell(cell_type, latent_dim,) for i in range(num_of_layer)]), return_sequences=True, return_state=True)\n",
        "\n",
        "  def get_dense_layer(self, num_decoder_token, activation = \"softmax\"):\n",
        "    return Dense(num_decoder_tokens, activation= activation)\n",
        "\n",
        "  def train_step(self):\n",
        "    # self.embedding_layer = self.get_embedding_layer( self.num_encoder_tokens, self.embedding_dim)\n",
        "    # self.embedding_results = self.embedding_layer()\n",
        "\n",
        "    self.encoder = self.get_encoder( self.embedding_dim,self.type_encoder_unit, self.num_of_encoder_layer , )\n",
        "    encoder_results = self.encoder(self.encoder_inputs)\n",
        "\n",
        "    self.encoder_outputs, self.encoder_states = encoder_results[0], encoder_results[1:]\n",
        "\n",
        "    # self.embedding_layer2 = self.get_embedding_layer( self.num_decoder_tokens, self.embedding_dim)\n",
        "    # self.embedding_results2 = self.embedding_layer2(self.decoder_inputs,)\n",
        "\n",
        "    self.decoder = self.get_decoder( self.embedding_dim, self.type_decoder_unit, self.num_of_decoder_layer,)\n",
        "    self.decoder_results = self.decoder(self.decoder_inputs, initial_state=self.encoder_states)\n",
        "\n",
        "    self.decoder_output = self.decoder_results[0]\n",
        "    self.decoder_dense = self.get_dense_layer(self.num_decoder_tokens)\n",
        "    self.dense_output = self.decoder_dense(self.decoder_output)\n",
        "\n",
        "  def build_model(self):\n",
        "    \n",
        "    self.model = keras.Model([self.encoder_inputs, self.decoder_inputs], self.dense_output, name = \"Seq2Seq_model\")\n",
        "    return self.model\n",
        "\n"
      ],
      "metadata": {
        "id": "x9fpzXhN7DMU"
      },
      "execution_count": 186,
      "outputs": []
    },
    {
      "cell_type": "code",
      "source": [
        "\n",
        "seq2seq = Seq2seq(num_encoder_tokens,num_decoder_tokens, 64,4,\"lstm\").build_model()\n",
        "seq2seq.summary()"
      ],
      "metadata": {
        "colab": {
          "base_uri": "https://localhost:8080/"
        },
        "id": "qJ07iEXsJr6K",
        "outputId": "22b3ed09-a36d-4b90-8352-ab6a6ceaa561"
      },
      "execution_count": 188,
      "outputs": [
        {
          "output_type": "stream",
          "name": "stdout",
          "text": [
            "Model: \"Seq2Seq_model\"\n",
            "__________________________________________________________________________________________________\n",
            " Layer (type)                   Output Shape         Param #     Connected to                     \n",
            "==================================================================================================\n",
            " input_96 (InputLayer)          [(None, None, 28)]   0           []                               \n",
            "                                                                                                  \n",
            " input_97 (InputLayer)          [(None, None, 68)]   0           []                               \n",
            "                                                                                                  \n",
            " rnn_47 (RNN)                   [(None, 64),         122880      ['input_96[0][0]']               \n",
            "                                 [(None, 64),                                                     \n",
            "                                 (None, 64)],                                                     \n",
            "                                 [(None, 64),                                                     \n",
            "                                 (None, 64)],                                                     \n",
            "                                 [(None, 64),                                                     \n",
            "                                 (None, 64)],                                                     \n",
            "                                 [(None, 64),                                                     \n",
            "                                 (None, 64)]]                                                     \n",
            "                                                                                                  \n",
            " rnn_48 (RNN)                   [(None, None, 64),   133120      ['input_97[0][0]',               \n",
            "                                 ListWrapper([(None               'rnn_47[0][1]',                 \n",
            "                                , 64),                            'rnn_47[0][2]',                 \n",
            "                                 (None, 64)]),                    'rnn_47[0][3]',                 \n",
            "                                 ListWrapper([(None               'rnn_47[0][4]',                 \n",
            "                                , 64),                            'rnn_47[0][5]',                 \n",
            "                                 (None, 64)]),                    'rnn_47[0][6]',                 \n",
            "                                 ListWrapper([(None               'rnn_47[0][7]',                 \n",
            "                                , 64),                            'rnn_47[0][8]']                 \n",
            "                                 (None, 64)]),                                                    \n",
            "                                 ListWrapper([(None                                               \n",
            "                                , 64),                                                            \n",
            "                                 (None, 64)])]                                                    \n",
            "                                                                                                  \n",
            " dense_11 (Dense)               (None, None, 68)     4420        ['rnn_48[0][0]']                 \n",
            "                                                                                                  \n",
            "==================================================================================================\n",
            "Total params: 260,420\n",
            "Trainable params: 260,420\n",
            "Non-trainable params: 0\n",
            "__________________________________________________________________________________________________\n"
          ]
        }
      ]
    },
    {
      "cell_type": "code",
      "source": [
        "x = np.zeros(num_encoder_tokens)"
      ],
      "metadata": {
        "id": "imtq9QGyirj7"
      },
      "execution_count": 166,
      "outputs": []
    },
    {
      "cell_type": "code",
      "source": [
        "seq2seq.compile(\n",
        "    optimizer=\"rmsprop\", loss=\"categorical_crossentropy\", metrics=[\"accuracy\"]\n",
        ")\n",
        "seq2seq.fit([[x,x]], x)"
      ],
      "metadata": {
        "id": "lE96wubZVNqB",
        "outputId": "3e384956-d669-471b-e1b1-11063398c739",
        "colab": {
          "base_uri": "https://localhost:8080/",
          "height": 786
        }
      },
      "execution_count": 189,
      "outputs": [
        {
          "output_type": "stream",
          "name": "stdout",
          "text": [
            "WARNING:tensorflow:Model was constructed with shape (None, None, 28) for input KerasTensor(type_spec=TensorSpec(shape=(None, None, 28), dtype=tf.float32, name='input_96'), name='input_96', description=\"created by layer 'input_96'\"), but it was called on an input with incompatible shape (None,).\n",
            "WARNING:tensorflow:Model was constructed with shape (None, None, 68) for input KerasTensor(type_spec=TensorSpec(shape=(None, None, 68), dtype=tf.float32, name='input_97'), name='input_97', description=\"created by layer 'input_97'\"), but it was called on an input with incompatible shape (None,).\n"
          ]
        },
        {
          "output_type": "error",
          "ename": "ValueError",
          "evalue": "ignored",
          "traceback": [
            "\u001b[0;31m---------------------------------------------------------------------------\u001b[0m",
            "\u001b[0;31mValueError\u001b[0m                                Traceback (most recent call last)",
            "\u001b[0;32m<ipython-input-189-3a3e044c8460>\u001b[0m in \u001b[0;36m<module>\u001b[0;34m()\u001b[0m\n\u001b[1;32m      2\u001b[0m     \u001b[0moptimizer\u001b[0m\u001b[0;34m=\u001b[0m\u001b[0;34m\"rmsprop\"\u001b[0m\u001b[0;34m,\u001b[0m \u001b[0mloss\u001b[0m\u001b[0;34m=\u001b[0m\u001b[0;34m\"categorical_crossentropy\"\u001b[0m\u001b[0;34m,\u001b[0m \u001b[0mmetrics\u001b[0m\u001b[0;34m=\u001b[0m\u001b[0;34m[\u001b[0m\u001b[0;34m\"accuracy\"\u001b[0m\u001b[0;34m]\u001b[0m\u001b[0;34m\u001b[0m\u001b[0;34m\u001b[0m\u001b[0m\n\u001b[1;32m      3\u001b[0m )\n\u001b[0;32m----> 4\u001b[0;31m \u001b[0mseq2seq\u001b[0m\u001b[0;34m.\u001b[0m\u001b[0mfit\u001b[0m\u001b[0;34m(\u001b[0m\u001b[0;34m[\u001b[0m\u001b[0;34m[\u001b[0m\u001b[0mx\u001b[0m\u001b[0;34m,\u001b[0m\u001b[0mx\u001b[0m\u001b[0;34m]\u001b[0m\u001b[0;34m]\u001b[0m\u001b[0;34m,\u001b[0m \u001b[0mx\u001b[0m\u001b[0;34m)\u001b[0m\u001b[0;34m\u001b[0m\u001b[0;34m\u001b[0m\u001b[0m\n\u001b[0m",
            "\u001b[0;32m/usr/local/lib/python3.7/dist-packages/keras/utils/traceback_utils.py\u001b[0m in \u001b[0;36merror_handler\u001b[0;34m(*args, **kwargs)\u001b[0m\n\u001b[1;32m     65\u001b[0m     \u001b[0;32mexcept\u001b[0m \u001b[0mException\u001b[0m \u001b[0;32mas\u001b[0m \u001b[0me\u001b[0m\u001b[0;34m:\u001b[0m  \u001b[0;31m# pylint: disable=broad-except\u001b[0m\u001b[0;34m\u001b[0m\u001b[0;34m\u001b[0m\u001b[0m\n\u001b[1;32m     66\u001b[0m       \u001b[0mfiltered_tb\u001b[0m \u001b[0;34m=\u001b[0m \u001b[0m_process_traceback_frames\u001b[0m\u001b[0;34m(\u001b[0m\u001b[0me\u001b[0m\u001b[0;34m.\u001b[0m\u001b[0m__traceback__\u001b[0m\u001b[0;34m)\u001b[0m\u001b[0;34m\u001b[0m\u001b[0;34m\u001b[0m\u001b[0m\n\u001b[0;32m---> 67\u001b[0;31m       \u001b[0;32mraise\u001b[0m \u001b[0me\u001b[0m\u001b[0;34m.\u001b[0m\u001b[0mwith_traceback\u001b[0m\u001b[0;34m(\u001b[0m\u001b[0mfiltered_tb\u001b[0m\u001b[0;34m)\u001b[0m \u001b[0;32mfrom\u001b[0m \u001b[0;32mNone\u001b[0m\u001b[0;34m\u001b[0m\u001b[0;34m\u001b[0m\u001b[0m\n\u001b[0m\u001b[1;32m     68\u001b[0m     \u001b[0;32mfinally\u001b[0m\u001b[0;34m:\u001b[0m\u001b[0;34m\u001b[0m\u001b[0;34m\u001b[0m\u001b[0m\n\u001b[1;32m     69\u001b[0m       \u001b[0;32mdel\u001b[0m \u001b[0mfiltered_tb\u001b[0m\u001b[0;34m\u001b[0m\u001b[0;34m\u001b[0m\u001b[0m\n",
            "\u001b[0;32m/usr/local/lib/python3.7/dist-packages/tensorflow/python/framework/func_graph.py\u001b[0m in \u001b[0;36mautograph_handler\u001b[0;34m(*args, **kwargs)\u001b[0m\n\u001b[1;32m   1145\u001b[0m           \u001b[0;32mexcept\u001b[0m \u001b[0mException\u001b[0m \u001b[0;32mas\u001b[0m \u001b[0me\u001b[0m\u001b[0;34m:\u001b[0m  \u001b[0;31m# pylint:disable=broad-except\u001b[0m\u001b[0;34m\u001b[0m\u001b[0;34m\u001b[0m\u001b[0m\n\u001b[1;32m   1146\u001b[0m             \u001b[0;32mif\u001b[0m \u001b[0mhasattr\u001b[0m\u001b[0;34m(\u001b[0m\u001b[0me\u001b[0m\u001b[0;34m,\u001b[0m \u001b[0;34m\"ag_error_metadata\"\u001b[0m\u001b[0;34m)\u001b[0m\u001b[0;34m:\u001b[0m\u001b[0;34m\u001b[0m\u001b[0;34m\u001b[0m\u001b[0m\n\u001b[0;32m-> 1147\u001b[0;31m               \u001b[0;32mraise\u001b[0m \u001b[0me\u001b[0m\u001b[0;34m.\u001b[0m\u001b[0mag_error_metadata\u001b[0m\u001b[0;34m.\u001b[0m\u001b[0mto_exception\u001b[0m\u001b[0;34m(\u001b[0m\u001b[0me\u001b[0m\u001b[0;34m)\u001b[0m\u001b[0;34m\u001b[0m\u001b[0;34m\u001b[0m\u001b[0m\n\u001b[0m\u001b[1;32m   1148\u001b[0m             \u001b[0;32melse\u001b[0m\u001b[0;34m:\u001b[0m\u001b[0;34m\u001b[0m\u001b[0;34m\u001b[0m\u001b[0m\n\u001b[1;32m   1149\u001b[0m               \u001b[0;32mraise\u001b[0m\u001b[0;34m\u001b[0m\u001b[0;34m\u001b[0m\u001b[0m\n",
            "\u001b[0;31mValueError\u001b[0m: in user code:\n\n    File \"/usr/local/lib/python3.7/dist-packages/keras/engine/training.py\", line 1021, in train_function  *\n        return step_function(self, iterator)\n    File \"/usr/local/lib/python3.7/dist-packages/keras/engine/training.py\", line 1010, in step_function  **\n        outputs = model.distribute_strategy.run(run_step, args=(data,))\n    File \"/usr/local/lib/python3.7/dist-packages/keras/engine/training.py\", line 1000, in run_step  **\n        outputs = model.train_step(data)\n    File \"/usr/local/lib/python3.7/dist-packages/keras/engine/training.py\", line 859, in train_step\n        y_pred = self(x, training=True)\n    File \"/usr/local/lib/python3.7/dist-packages/keras/utils/traceback_utils.py\", line 67, in error_handler\n        raise e.with_traceback(filtered_tb) from None\n    File \"/usr/local/lib/python3.7/dist-packages/keras/engine/input_spec.py\", line 214, in assert_input_compatibility\n        raise ValueError(f'Input {input_index} of layer \"{layer_name}\" '\n\n    ValueError: Exception encountered when calling layer \"Seq2Seq_model\" (type Functional).\n    \n    Input 0 of layer \"rnn_47\" is incompatible with the layer: expected ndim=3, found ndim=1. Full shape received: (None,)\n    \n    Call arguments received:\n      • inputs=(('tf.Tensor(shape=(None,), dtype=float32)', 'tf.Tensor(shape=(None,), dtype=float32)'),)\n      • training=True\n      • mask=None\n"
          ]
        }
      ]
    },
    {
      "cell_type": "code",
      "source": [
        "train_dataset"
      ],
      "metadata": {
        "id": "eE4BP_nOPzNk",
        "outputId": "5a02b297-e569-40c9-a582-4642e5d9bf57",
        "colab": {
          "base_uri": "https://localhost:8080/"
        }
      },
      "execution_count": 13,
      "outputs": [
        {
          "output_type": "execute_result",
          "data": {
            "text/plain": [
              "<ZipDataset element_spec=(TensorSpec(shape=(22,), dtype=tf.int32, name=None), TensorSpec(shape=(21,), dtype=tf.int32, name=None))>"
            ]
          },
          "metadata": {},
          "execution_count": 13
        }
      ]
    },
    {
      "cell_type": "code",
      "source": [
        "def lstm_cell():\n",
        "  return tf.keras.layers.LSTMCell(4)"
      ],
      "metadata": {
        "id": "VOWsy0UhCYBY"
      },
      "execution_count": null,
      "outputs": []
    },
    {
      "cell_type": "code",
      "source": [
        "num_encoder_tokens"
      ],
      "metadata": {
        "id": "LBq2eKWh1Yib",
        "outputId": "23367491-93cf-414b-8618-2e999c8593a2",
        "colab": {
          "base_uri": "https://localhost:8080/"
        }
      },
      "execution_count": null,
      "outputs": [
        {
          "output_type": "execute_result",
          "data": {
            "text/plain": [
              "32"
            ]
          },
          "metadata": {},
          "execution_count": 132
        }
      ]
    },
    {
      "cell_type": "code",
      "execution_count": 5,
      "metadata": {
        "id": "g-_5EmV_AQed"
      },
      "outputs": [],
      "source": [
        "# Define an input sequence and process it.\n",
        "encoder_inputs = keras.Input(shape=(None, num_encoder_tokens))\n",
        "encoder = keras.layers.LSTM(latent_dim, return_state=True)\n",
        "encoder_outputs, state_h, state_c = encoder(encoder_inputs)\n",
        "\n",
        "# We discard `encoder_outputs` and only keep the states.\n",
        "encoder_states = [state_h, state_c]\n",
        "\n",
        "# Set up the decoder, using `encoder_states` as initial state.\n",
        "decoder_inputs = keras.Input(shape=(None, num_decoder_tokens))\n",
        "\n",
        "# We set up our decoder to return full output sequences,\n",
        "# and to return internal states as well. We don't use the\n",
        "# return states in the training model, but we will use them in inference.\n",
        "decoder_lstm = keras.layers.LSTM(latent_dim, return_sequences=True, return_state=True)\n",
        "decoder_outputs, _, _ = decoder_lstm(decoder_inputs, initial_state=encoder_states)\n",
        "decoder_dense = keras.layers.Dense(num_decoder_tokens, activation=\"softmax\")\n",
        "decoder_outputs = decoder_dense(decoder_outputs)\n",
        "\n",
        "# Define the model that will turn\n",
        "# `encoder_input_data` & `decoder_input_data` into `decoder_target_data`\n",
        "model = keras.Model([encoder_inputs, decoder_inputs], decoder_outputs)"
      ]
    },
    {
      "cell_type": "code",
      "source": [
        "model.summary()"
      ],
      "metadata": {
        "id": "_jgQGrdzRhHE",
        "outputId": "be18f3c5-cd71-4674-be33-871f9b9e4cbb",
        "colab": {
          "base_uri": "https://localhost:8080/"
        }
      },
      "execution_count": 6,
      "outputs": [
        {
          "output_type": "stream",
          "name": "stdout",
          "text": [
            "Model: \"model\"\n",
            "__________________________________________________________________________________________________\n",
            " Layer (type)                   Output Shape         Param #     Connected to                     \n",
            "==================================================================================================\n",
            " input_1 (InputLayer)           [(None, None, 32)]   0           []                               \n",
            "                                                                                                  \n",
            " input_2 (InputLayer)           [(None, None, 25)]   0           []                               \n",
            "                                                                                                  \n",
            " lstm (LSTM)                    [(None, 256),        295936      ['input_1[0][0]']                \n",
            "                                 (None, 256),                                                     \n",
            "                                 (None, 256)]                                                     \n",
            "                                                                                                  \n",
            " lstm_1 (LSTM)                  [(None, None, 256),  288768      ['input_2[0][0]',                \n",
            "                                 (None, 256),                     'lstm[0][1]',                   \n",
            "                                 (None, 256)]                     'lstm[0][2]']                   \n",
            "                                                                                                  \n",
            " dense (Dense)                  (None, None, 25)     6425        ['lstm_1[0][0]']                 \n",
            "                                                                                                  \n",
            "==================================================================================================\n",
            "Total params: 591,129\n",
            "Trainable params: 591,129\n",
            "Non-trainable params: 0\n",
            "__________________________________________________________________________________________________\n"
          ]
        }
      ]
    },
    {
      "cell_type": "code",
      "source": [
        "encoder_inputs"
      ],
      "metadata": {
        "colab": {
          "base_uri": "https://localhost:8080/"
        },
        "id": "Hhh4FOd3BugJ",
        "outputId": "cab4b7e0-d40b-42b5-d17a-820b4a1c712f"
      },
      "execution_count": null,
      "outputs": [
        {
          "output_type": "execute_result",
          "data": {
            "text/plain": [
              "<KerasTensor: shape=(None, None, 32) dtype=float32 (created by layer 'input_2')>"
            ]
          },
          "metadata": {},
          "execution_count": 12
        }
      ]
    },
    {
      "cell_type": "code",
      "source": [
        "model.summary()"
      ],
      "metadata": {
        "id": "i_bq6OKSEIew"
      },
      "execution_count": null,
      "outputs": []
    },
    {
      "cell_type": "code",
      "source": [
        "model.summary()"
      ],
      "metadata": {
        "id": "HOlv5F1KD6pZ"
      },
      "execution_count": null,
      "outputs": []
    },
    {
      "cell_type": "markdown",
      "metadata": {
        "id": "HXZ2_xdsAQee"
      },
      "source": [
        "## Train the model\n"
      ]
    },
    {
      "cell_type": "code",
      "source": [
        "x,y= next(iter(train_dataset))"
      ],
      "metadata": {
        "id": "jOKxnFzACDQm"
      },
      "execution_count": 17,
      "outputs": []
    },
    {
      "cell_type": "code",
      "source": [
        "x"
      ],
      "metadata": {
        "id": "kIMpvaOAQ9cT",
        "outputId": "7568fe08-759d-47ad-b782-64ded4bafdf4",
        "colab": {
          "base_uri": "https://localhost:8080/"
        }
      },
      "execution_count": 38,
      "outputs": [
        {
          "output_type": "execute_result",
          "data": {
            "text/plain": [
              "<tf.Tensor: shape=(22,), dtype=int32, numpy=\n",
              "array([2, 1, 4, 3, 0, 0, 0, 0, 0, 0, 0, 0, 0, 0, 0, 0, 0, 0, 0, 0, 0, 0],\n",
              "      dtype=int32)>"
            ]
          },
          "metadata": {},
          "execution_count": 38
        }
      ]
    },
    {
      "cell_type": "code",
      "execution_count": 205,
      "metadata": {
        "colab": {
          "base_uri": "https://localhost:8080/"
        },
        "id": "ox_fyYUrAQef",
        "outputId": "0371c1ac-d3eb-4ff4-96f8-ab3e7c5ccb74"
      },
      "outputs": [
        {
          "output_type": "stream",
          "name": "stdout",
          "text": [
            "691/691 [==============================] - 87s 114ms/step - loss: 0.9936 - accuracy: 0.1315 - val_loss: 0.9123 - val_accuracy: 0.1346\n"
          ]
        },
        {
          "output_type": "stream",
          "name": "stderr",
          "text": [
            "WARNING:absl:Found untraced functions such as lstm_cell_129_layer_call_fn, lstm_cell_129_layer_call_and_return_conditional_losses, lstm_cell_130_layer_call_fn, lstm_cell_130_layer_call_and_return_conditional_losses, lstm_cell_131_layer_call_fn while saving (showing 5 of 16). These functions will not be directly callable after loading.\n"
          ]
        },
        {
          "output_type": "stream",
          "name": "stdout",
          "text": [
            "INFO:tensorflow:Assets written to: s2s/assets\n"
          ]
        },
        {
          "output_type": "stream",
          "name": "stderr",
          "text": [
            "INFO:tensorflow:Assets written to: s2s/assets\n"
          ]
        }
      ],
      "source": [
        "seq2seq.compile(\n",
        "    optimizer=\"rmsprop\", loss=\"categorical_crossentropy\", metrics=[\"accuracy\"]\n",
        ")\n",
        "seq2seq.fit(\n",
        "    [encoder_input_data, decoder_input_data],\n",
        "    decoder_target_data,\n",
        "    batch_size=batch_size,\n",
        "    epochs=1,\n",
        "    validation_data =  ([validation_encoder_input_data , validation_decoder_input_data] ,validation_decoder_target_data),\n",
        ")\n",
        "# Save model\n",
        "seq2seq.save(\"s2s\")\n"
      ]
    },
    {
      "cell_type": "markdown",
      "metadata": {
        "id": "BC5CbwHlAQef"
      },
      "source": [
        "## Run inference (sampling)\n",
        "\n",
        "1. encode input and retrieve initial decoder state\n",
        "2. run one step of decoder with this initial state\n",
        "and a \"start of sequence\" token as target.\n",
        "Output will be the next target token.\n",
        "3. Repeat with the current target token and current states\n"
      ]
    },
    {
      "cell_type": "code",
      "source": [
        "next(iter(train_dataset))[1]"
      ],
      "metadata": {
        "id": "D2W-daOcAPW1",
        "outputId": "6f604857-b301-4d6c-e808-ba703ac3e5f5",
        "colab": {
          "base_uri": "https://localhost:8080/"
        }
      },
      "execution_count": null,
      "outputs": [
        {
          "output_type": "execute_result",
          "data": {
            "text/plain": [
              "<tf.Tensor: shape=(21,), dtype=int32, numpy=\n",
              "array([ 1, 31, 11,  2,  0,  0,  0,  0,  0,  0,  0,  0,  0,  0,  0,  0,  0,\n",
              "        0,  0,  0,  0], dtype=int32)>"
            ]
          },
          "metadata": {},
          "execution_count": 297
        }
      ]
    },
    {
      "cell_type": "code",
      "source": [
        "next(iter(train_dataset))[1]"
      ],
      "metadata": {
        "id": "m2C8vVQ679L_",
        "outputId": "fe2d6603-b7e6-466d-fb51-7c3fdc96e4dc",
        "colab": {
          "base_uri": "https://localhost:8080/"
        }
      },
      "execution_count": null,
      "outputs": [
        {
          "output_type": "execute_result",
          "data": {
            "text/plain": [
              "<tf.Tensor: shape=(21,), dtype=int32, numpy=\n",
              "array([ 1, 31, 11,  2,  0,  0,  0,  0,  0,  0,  0,  0,  0,  0,  0,  0,  0,\n",
              "        0,  0,  0,  0], dtype=int32)>"
            ]
          },
          "metadata": {},
          "execution_count": 230
        }
      ]
    },
    {
      "cell_type": "code",
      "source": [
        "encoder_input_data[43].shape"
      ],
      "metadata": {
        "id": "NDoBngYl4-z9",
        "outputId": "bda39498-a137-4745-eab2-0e71ab481013",
        "colab": {
          "base_uri": "https://localhost:8080/"
        }
      },
      "execution_count": null,
      "outputs": [
        {
          "output_type": "execute_result",
          "data": {
            "text/plain": [
              "(15, 32)"
            ]
          },
          "metadata": {},
          "execution_count": 180
        }
      ]
    },
    {
      "cell_type": "code",
      "execution_count": 206,
      "metadata": {
        "id": "meuadqgkAQeg"
      },
      "outputs": [],
      "source": [
        "# Define sampling models\n",
        "# Restore the model and construct the encoder and decoder.\n",
        "model = keras.models.load_model(\"s2s\")\n",
        "\n",
        "encoder_inputs = model.input[0]  # input_1\n",
        "temp = model.layers[2].output\n",
        "encoder_outputs, state = temp[0], temp[1:]  # lstm_1\n",
        "encoder_states = state\n",
        "encoder_model = keras.Model(encoder_inputs, encoder_states)\n",
        "\n",
        "decoder_inputs = model.input[1]  # input_2\n",
        "decoder_state_input_h = keras.Input(shape=(latent_dim,))\n",
        "decoder_state_input_c = keras.Input(shape=(latent_dim,))\n",
        "decoder_states_inputs = state\n",
        "decoder_lstm = model.layers[3]\n",
        "temp = decoder_lstm(decoder_inputs, initial_state=decoder_states_inputs)\n",
        "decoder_outputs, state_dec = temp[0], temp[1:]\n",
        "decoder_states = state_dec\n",
        "decoder_dense = model.layers[4]\n",
        "decoder_outputs = decoder_dense(decoder_outputs)\n",
        "decoder_model = keras.Model(\n",
        "    [decoder_inputs] + decoder_states_inputs, [decoder_outputs] + decoder_states\n",
        ")\n",
        "\n",
        "# Reverse-lookup token index to decode sequences back to\n",
        "# something readable.\n",
        "# reverse_input_char_index = dict((i, char) for char, i in num_encoder_tokens.items())\n",
        "# reverse_target_char_index = dict((i, char) for char, i in num_decoder_tokens.items())\n",
        "# print(reverse_input_char_index)\n",
        "# print(input_token_index)\n",
        "\n",
        "reverse_input_token = dict((i, char) for char, i in input_token.items())\n",
        "reverse_target_token = dict((i, char) for char, i in target_token.items())\n",
        "def decode_sequence(input_seq):\n",
        "    # Encode the input as state vectors.\n",
        "    states_value = encoder_model.predict(input_seq)\n",
        "\n",
        "    # Generate empty target sequence of length 1.\n",
        "    target_seq = np.zeros((1, 1, num_decoder_tokens))\n",
        "    # Populate the first character of target sequence with the start character.\n",
        "    target_seq[0, 0, target_token_index[\"\\t\"]] = 1.0\n",
        "\n",
        "    # Sampling loop for a batch of sequences\n",
        "    # (to simplify, here we assume a batch of size 1).\n",
        "    stop_condition = False\n",
        "    decoded_sentence = \"\"\n",
        "    while not stop_condition:\n",
        "        temp = decoder_model.predict([target_seq] + states_value)\n",
        "        output_tokens, state = temp[0],temp[1:]\n",
        "\n",
        "        # Sample a token\n",
        "        sampled_token_index = np.argmax(output_tokens[0, -1, :])\n",
        "        #print(reverse_target_char_index)\n",
        "        sampled_char = reverse_target_token[sampled_token_index]\n",
        "        decoded_sentence += sampled_char\n",
        "\n",
        "        # Exit condition: either hit max length\n",
        "        # or find stop character.\n",
        "        if sampled_char == \"\\n\" or len(decoded_sentence) > max_decoder_seq_length:\n",
        "            stop_condition = True\n",
        "\n",
        "        # Update the target sequence (of length 1).\n",
        "        target_seq = np.zeros((1, 1, num_decoder_tokens))\n",
        "        target_seq[0, 0, sampled_token_index] = 1.0\n",
        "\n",
        "        # Update states\n",
        "        states_value = state\n",
        "    return decoded_sentence\n",
        "\n"
      ]
    },
    {
      "cell_type": "markdown",
      "metadata": {
        "id": "nSNoQ5AvAQeh"
      },
      "source": [
        "You can now generate decoded sentences as such:\n"
      ]
    },
    {
      "cell_type": "code",
      "execution_count": 207,
      "metadata": {
        "colab": {
          "base_uri": "https://localhost:8080/"
        },
        "id": "wjp__2oJAQeh",
        "outputId": "f892034f-9120-4f42-f893-e17883870cc7"
      },
      "outputs": [
        {
          "output_type": "stream",
          "name": "stdout",
          "text": [
            "-\n",
            "Input sentence: an\n",
            "Decoded sentence: अ\n",
            "\n",
            "-\n",
            "Input sentence: ankganit\n",
            "Decoded sentence: अननतत\n",
            "\n",
            "-\n",
            "Input sentence: uncle\n",
            "Decoded sentence: उननल\n",
            "\n",
            "-\n",
            "Input sentence: ankur\n",
            "Decoded sentence: अनाा\n",
            "\n",
            "-\n",
            "Input sentence: ankuran\n",
            "Decoded sentence: अन्काा\n",
            "\n",
            "-\n",
            "Input sentence: ankurit\n",
            "Decoded sentence: अन्तता\n",
            "\n",
            "-\n",
            "Input sentence: aankush\n",
            "Decoded sentence: आनाा\n",
            "\n",
            "-\n",
            "Input sentence: ankush\n",
            "Decoded sentence: अनाक\n",
            "\n",
            "-\n",
            "Input sentence: ang\n",
            "Decoded sentence: अं\n",
            "\n",
            "-\n",
            "Input sentence: anga\n",
            "Decoded sentence: अं\n",
            "\n",
            "-\n",
            "Input sentence: agandh\n",
            "Decoded sentence: आआाा\n",
            "\n",
            "-\n",
            "Input sentence: angad\n",
            "Decoded sentence: अंा\n",
            "\n",
            "-\n",
            "Input sentence: angane\n",
            "Decoded sentence: अनना\n",
            "\n",
            "-\n",
            "Input sentence: angbhang\n",
            "Decoded sentence: अंिना\n",
            "\n",
            "-\n",
            "Input sentence: angarakshak\n",
            "Decoded sentence: अं्कााााा\n",
            "\n",
            "-\n",
            "Input sentence: angrakshak\n",
            "Decoded sentence: अं््काााा\n",
            "\n",
            "-\n",
            "Input sentence: angara\n",
            "Decoded sentence: अंाा\n",
            "\n",
            "-\n",
            "Input sentence: angaare\n",
            "Decoded sentence: अनाा\n",
            "\n",
            "-\n",
            "Input sentence: angare\n",
            "Decoded sentence: अंा\n",
            "\n",
            "-\n",
            "Input sentence: angi\n",
            "Decoded sentence: अं\n",
            "\n"
          ]
        }
      ],
      "source": [
        "for seq_index in range(20):\n",
        "    # Take one sequence (part of the training set)\n",
        "    # for trying out decoding.\n",
        "    input_seq = encoder_input_data[seq_index : seq_index + 1]\n",
        "    decoded_sentence = decode_sequence(input_seq)\n",
        "    print(\"-\")\n",
        "    print(\"Input sentence:\", input_texts[seq_index])\n",
        "    print(\"Decoded sentence:\", decoded_sentence)\n"
      ]
    },
    {
      "cell_type": "code",
      "source": [
        ""
      ],
      "metadata": {
        "id": "ygwmClalB8vI"
      },
      "execution_count": null,
      "outputs": []
    }
  ],
  "metadata": {
    "colab": {
      "collapsed_sections": [],
      "name": "seq2seq",
      "provenance": [],
      "include_colab_link": true
    },
    "kernelspec": {
      "display_name": "Python 3",
      "language": "python",
      "name": "python3"
    },
    "language_info": {
      "codemirror_mode": {
        "name": "ipython",
        "version": 3
      },
      "file_extension": ".py",
      "mimetype": "text/x-python",
      "name": "python",
      "nbconvert_exporter": "python",
      "pygments_lexer": "ipython3",
      "version": "3.7.0"
    }
  },
  "nbformat": 4,
  "nbformat_minor": 0
}