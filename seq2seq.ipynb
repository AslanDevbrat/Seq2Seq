{
  "cells": [
    {
      "cell_type": "markdown",
      "metadata": {
        "id": "view-in-github",
        "colab_type": "text"
      },
      "source": [
        "<a href=\"https://colab.research.google.com/github/AslanDevbrat/Seq2Seq/blob/main/seq2seq.ipynb\" target=\"_parent\"><img src=\"https://colab.research.google.com/assets/colab-badge.svg\" alt=\"Open In Colab\"/></a>"
      ]
    },
    {
      "cell_type": "markdown",
      "metadata": {
        "id": "lL-NTN5JAQeG"
      },
      "source": [
        "# Character-level recurrent sequence-to-sequence model\n",
        "\n",
        "**Author:** [fchollet](https://twitter.com/fchollet)<br>\n",
        "**Date created:** 2017/09/29<br>\n",
        "**Last modified:** 2020/04/26<br>\n",
        "**Description:** Character-level recurrent sequence-to-sequence model."
      ]
    },
    {
      "cell_type": "markdown",
      "metadata": {
        "id": "H97iiBQqAQeT"
      },
      "source": [
        "## Introduction\n",
        "\n",
        "This example demonstrates how to implement a basic character-level\n",
        "recurrent sequence-to-sequence model. We apply it to translating\n",
        "short English sentences into short French sentences,\n",
        "character-by-character. Note that it is fairly unusual to\n",
        "do character-level machine translation, as word-level\n",
        "models are more common in this domain.\n",
        "\n",
        "**Summary of the algorithm**\n",
        "\n",
        "- We start with input sequences from a domain (e.g. English sentences)\n",
        "    and corresponding target sequences from another domain\n",
        "    (e.g. French sentences).\n",
        "- An encoder LSTM turns input sequences to 2 state vectors\n",
        "    (we keep the last LSTM state and discard the outputs).\n",
        "- A decoder LSTM is trained to turn the target sequences into\n",
        "    the same sequence but offset by one timestep in the future,\n",
        "    a training process called \"teacher forcing\" in this context.\n",
        "    It uses as initial state the state vectors from the encoder.\n",
        "    Effectively, the decoder learns to generate `targets[t+1...]`\n",
        "    given `targets[...t]`, conditioned on the input sequence.\n",
        "- In inference mode, when we want to decode unknown input sequences, we:\n",
        "    - Encode the input sequence into state vectors\n",
        "    - Start with a target sequence of size 1\n",
        "        (just the start-of-sequence character)\n",
        "    - Feed the state vectors and 1-char target sequence\n",
        "        to the decoder to produce predictions for the next character\n",
        "    - Sample the next character using these predictions\n",
        "        (we simply use argmax).\n",
        "    - Append the sampled character to the target sequence\n",
        "    - Repeat until we generate the end-of-sequence character or we\n",
        "        hit the character limit.\n"
      ]
    },
    {
      "cell_type": "markdown",
      "metadata": {
        "id": "XtD33RcAAQeV"
      },
      "source": [
        "## Setup\n"
      ]
    },
    {
      "cell_type": "code",
      "execution_count": 44,
      "metadata": {
        "id": "EnvOeSibAQeV"
      },
      "outputs": [],
      "source": [
        "import numpy as np\n",
        "import tensorflow as tf\n",
        "from tensorflow import keras\n",
        "from tensorflow.keras.layers import Embedding, SimpleRNNCell, GRUCell, Dense, LSTMCell\n",
        "from tensorflow.keras import Input"
      ]
    },
    {
      "cell_type": "markdown",
      "metadata": {
        "id": "NbOpYTqYAQeX"
      },
      "source": [
        "## Download the data\n"
      ]
    },
    {
      "cell_type": "code",
      "execution_count": null,
      "metadata": {
        "colab": {
          "base_uri": "https://localhost:8080/"
        },
        "id": "Nrnv1ar0AQeY",
        "outputId": "d078c0b9-fe1c-4bcd-dfd7-f50df0700cbb"
      },
      "outputs": [
        {
          "output_type": "execute_result",
          "data": {
            "text/plain": [
              "['Archive:  fra-eng.zip',\n",
              " '  inflating: _about.txt              ',\n",
              " '  inflating: fra.txt                 ']"
            ]
          },
          "metadata": {},
          "execution_count": 2
        }
      ],
      "source": [
        "!!curl -O http://www.manythings.org/anki/fra-eng.zip\n",
        "!!unzip fra-eng.zip\n"
      ]
    },
    {
      "cell_type": "markdown",
      "metadata": {
        "id": "1rKnaKIZAQeZ"
      },
      "source": [
        "## Configuration\n"
      ]
    },
    {
      "cell_type": "code",
      "source": [
        "!wget  https://storage.googleapis.com/gresearch/dakshina/dakshina_dataset_v1.0.tar\n",
        "!tar -xf 'dakshina_dataset_v1.0.tar'\n",
        "train_file_path = \"/content/dakshina_dataset_v1.0/hi/lexicons/hi.translit.sampled.train.tsv\"\n",
        "val_file_path= \"/content/dakshina_dataset_v1.0/hi/lexicons/hi.translit.sampled.test.tsv\"\n",
        "test_file_path  = \"/content/dakshina_dataset_v1.0/hi/lexicons/hi.translit.sampled.dev.tsv\""
      ],
      "metadata": {
        "colab": {
          "base_uri": "https://localhost:8080/"
        },
        "id": "roFBlOuMAYkx",
        "outputId": "4033054b-fac1-4bf2-fa97-a72dc1162069"
      },
      "execution_count": 6,
      "outputs": [
        {
          "output_type": "stream",
          "name": "stdout",
          "text": [
            "--2022-06-17 14:16:57--  https://storage.googleapis.com/gresearch/dakshina/dakshina_dataset_v1.0.tar\n",
            "Resolving storage.googleapis.com (storage.googleapis.com)... 74.125.202.128, 173.194.192.128, 172.217.219.128, ...\n",
            "Connecting to storage.googleapis.com (storage.googleapis.com)|74.125.202.128|:443... connected.\n",
            "HTTP request sent, awaiting response... 200 OK\n",
            "Length: 2008340480 (1.9G) [application/x-tar]\n",
            "Saving to: ‘dakshina_dataset_v1.0.tar’\n",
            "\n",
            "dakshina_dataset_v1 100%[===================>]   1.87G   241MB/s    in 7.8s    \n",
            "\n",
            "2022-06-17 14:17:05 (245 MB/s) - ‘dakshina_dataset_v1.0.tar’ saved [2008340480/2008340480]\n",
            "\n"
          ]
        }
      ]
    },
    {
      "cell_type": "code",
      "execution_count": 27,
      "metadata": {
        "id": "akMCxfVHAQeZ"
      },
      "outputs": [],
      "source": [
        "batch_size = 64  # Batch size for training.\n",
        "epochs = 100  # Number of epochs to train for.\n",
        "latent_dim = 256  # Latent dimensionality of the encoding space.\n",
        "num_samples = 100  # Number of samples to train on.\n",
        "# Path to the data txt file on disk.\n",
        "data_path = train_file_path\n"
      ]
    },
    {
      "cell_type": "markdown",
      "metadata": {
        "id": "U-3Djb36AQea"
      },
      "source": [
        "## Prepare the data\n"
      ]
    },
    {
      "cell_type": "code",
      "execution_count": 8,
      "metadata": {
        "colab": {
          "base_uri": "https://localhost:8080/"
        },
        "id": "gvMpU9FzAQeb",
        "outputId": "bad54573-5625-4e25-c1a8-dade27fe2834"
      },
      "outputs": [
        {
          "output_type": "stream",
          "name": "stdout",
          "text": [
            "Number of samples: 100\n",
            "Number of unique input tokens: 32\n",
            "Number of unique output tokens: 25\n",
            "Max sequence length for inputs: 15\n",
            "Max sequence length for outputs: 20\n"
          ]
        }
      ],
      "source": [
        "# Vectorize the data.\n",
        "input_texts = []\n",
        "target_texts = []\n",
        "input_characters = set()\n",
        "target_characters = set()\n",
        "with open(data_path, \"r\", encoding=\"utf-8\") as f:\n",
        "    lines = f.read().split(\"\\n\")\n",
        "for line in lines[: min(num_samples, len(lines) - 1)]:\n",
        "    input_text, target_text, _ = line.split(\"\\t\")\n",
        "    # We use \"tab\" as the \"start sequence\" character\n",
        "    # for the targets, and \"\\n\" as \"end sequence\" character.\n",
        "    target_text = \"\\t\" + target_text + \"\\n\"\n",
        "    input_texts.append(input_text)\n",
        "    target_texts.append(target_text)\n",
        "    for char in input_text:\n",
        "        if char not in input_characters:\n",
        "            input_characters.add(char)\n",
        "    for char in target_text:\n",
        "        if char not in target_characters:\n",
        "            target_characters.add(char)\n",
        "\n",
        "input_characters = sorted(list(input_characters))\n",
        "target_characters = sorted(list(target_characters))\n",
        "num_encoder_tokens = len(input_characters)\n",
        "num_decoder_tokens = len(target_characters)\n",
        "max_encoder_seq_length = max([len(txt) for txt in input_texts])\n",
        "max_decoder_seq_length = max([len(txt) for txt in target_texts])\n",
        "\n",
        "print(\"Number of samples:\", len(input_texts))\n",
        "print(\"Number of unique input tokens:\", num_encoder_tokens)\n",
        "print(\"Number of unique output tokens:\", num_decoder_tokens)\n",
        "print(\"Max sequence length for inputs:\", max_encoder_seq_length)\n",
        "print(\"Max sequence length for outputs:\", max_decoder_seq_length)\n",
        "\n",
        "input_token_index = dict([(char, i) for i, char in enumerate(input_characters)])\n",
        "target_token_index = dict([(char, i) for i, char in enumerate(target_characters)])\n",
        "\n",
        "encoder_input_data = np.zeros(\n",
        "    (len(input_texts), max_encoder_seq_length, num_encoder_tokens), dtype=\"float32\"\n",
        ")\n",
        "decoder_input_data = np.zeros(\n",
        "    (len(input_texts), max_decoder_seq_length, num_decoder_tokens), dtype=\"float32\"\n",
        ")\n",
        "decoder_target_data = np.zeros(\n",
        "    (len(input_texts), max_decoder_seq_length, num_decoder_tokens), dtype=\"float32\"\n",
        ")\n",
        "\n",
        "for i, (input_text, target_text) in enumerate(zip(input_texts, target_texts)):\n",
        "    for t, char in enumerate(input_text):\n",
        "        encoder_input_data[i, t, input_token_index[char]] = 1.0\n",
        "    #encoder_input_data[i, t + 1 :, input_token_index[\" \"]] = 1.0\n",
        "    for t, char in enumerate(target_text):\n",
        "        # decoder_target_data is ahead of decoder_input_data by one timestep\n",
        "        decoder_input_data[i, t, target_token_index[char]] = 1.0\n",
        "        if t > 0:\n",
        "            # decoder_target_data will be ahead by one timestep\n",
        "            # and will not include the start character.\n",
        "            decoder_target_data[i, t - 1, target_token_index[char]] = 1.0\n",
        "    #decoder_input_data[i, t + 1 :, target_token_index[\" \"]] = 1.0\n",
        "    #decoder_target_data[i, t:, target_token_index[\" \"]] = 1.0\n"
      ]
    },
    {
      "cell_type": "markdown",
      "metadata": {
        "id": "eGM50wwWAQed"
      },
      "source": [
        "## Build the model\n"
      ]
    },
    {
      "cell_type": "code",
      "source": [
        " LSTMCell??"
      ],
      "metadata": {
        "id": "2q7AdDj4P_8p"
      },
      "execution_count": 74,
      "outputs": []
    },
    {
      "cell_type": "code",
      "source": [
        "def lstm_cell():\n",
        "  return tf.keras.layers.LSTMCell(latent_dim)"
      ],
      "metadata": {
        "id": "VOWsy0UhCYBY"
      },
      "execution_count": 10,
      "outputs": []
    },
    {
      "cell_type": "code",
      "source": [
        "class Seq2seq(tf.keras.Model):\n",
        "  def __init__(self, num_encoder_tokens, num_decoder_tokens,embedding_dim,num_of_layers,unit_type):\n",
        "    super().__init__()\n",
        "    self.encoder_inputs = Input(shape = (None, num_encoder_tokens))\n",
        "    self.decoder_inputs = keras.Input(shape=(None, num_decoder_tokens))\n",
        "    self.vocab = num_encoder_tokens\n",
        "    self.embedding_dim = embedding_dim\n",
        "    self.num_decoder_tokens = num_decoder_tokens\n",
        "    self.num_of_encoder_layer  =num_of_layers\n",
        "    self.num_of_decoder_layer =num_of_layers\n",
        "    self.type_encoder_unit =unit_type \n",
        "    self.type_decoder_unit =unit_type\n",
        "\n",
        "  def get_embedding_layer(self, vocab, embedding_dim):\n",
        "    return Embedding(vocab, embedding_dim)\n",
        "\n",
        "  def get_cell(self, cell_type = \"lstm\", num_of_cell = 1, name = None):\n",
        "    print(cell_type)\n",
        "    if cell_type == \"lstm\":\n",
        "      return LSTMCell(num_of_cell)\n",
        "    elif cell_type == \"rnn\":\n",
        "      return SimpleRNNCell(num_of_cell,)\n",
        "    elif cell_type ==\"gru\":\n",
        "      return GRUCell(num_of_cell)\n",
        "    else:\n",
        "      print(f\"Invalid cell type: {cell_type}\")\n",
        "\n",
        "  def get_encoder(self, cell_type = \"lstm\", num_of_layer = 1, latent_dim = 256, name = None):\n",
        "    return tf.keras.layers.RNN(tf.keras.layers.StackedRNNCells( [self.get_cell(cell_type, latent_dim) for i in range(num_of_layer)]), return_state = True, name = name)\n",
        "\n",
        "  def get_decoder(self, cell_type = \"lstm\", num_of_layer = 1, latent_dim = 256, name = None ):\n",
        "    return tf.keras.layers.RNN(tf.keras.layers.StackedRNNCells( [self.get_cell(cell_type, latent_dim,) for i in range(num_of_layer)]), return_sequences=True, return_state=True, name = name)\n",
        "\n",
        "  def get_dense_layer(self, num_decoder_token, activation = \"softmax\"):\n",
        "    return Dense(num_decoder_tokens, activation= activation)\n",
        "\n",
        "  def train_step(self):\n",
        "    # self.embedding_layer = self.get_embedding_layer( self.vocab, self.embedding_dim)\n",
        "    # embedding_results = self.embedding_layer(self.encoder_inputs)\n",
        "\n",
        "    self.encoder = self.get_encoder(self.type_encoder_unit, self.num_of_encoder_layer , 256, \"encoder\")\n",
        "    encoder_results = self.encoder(self.encoder_inputs)\n",
        "\n",
        "    self.encoder_outputs, self.encoder_states = encoder_results[0], encoder_results[1:]\n",
        "\n",
        "    self.decoder = self.get_decoder(self.type_decoder_unit, self.num_of_decoder_layer, 256, \"decoder\")\n",
        "    self.decoder_results = self.decoder(self.decoder_inputs, initial_state=self.encoder_states)\n",
        "\n",
        "    self.decoder_output = self.decoder_results[0]\n",
        "    self.decoder_dense = self.get_dense_layer(self.num_decoder_tokens)\n",
        "    self.dense_output = self.decoder_dense(self.decoder_output)\n",
        "\n",
        "  def build_model(self):\n",
        "    self.model = keras.Model([self.encoder_inputs, self.decoder_inputs], self.dense_output)\n",
        "    return self.model\n",
        "\n"
      ],
      "metadata": {
        "id": "x9fpzXhN7DMU"
      },
      "execution_count": 108,
      "outputs": []
    },
    {
      "cell_type": "code",
      "source": [
        "seq2seq = Seq2seq(num_encoder_tokens, num_decoder_tokens, 1024,2,\"lstm\")\n",
        "seq2seq.train_step()\n",
        "seq2seq.build_model().summary()"
      ],
      "metadata": {
        "id": "qJ07iEXsJr6K",
        "outputId": "db16fa29-d9a7-4d47-e62a-dd9fdc23415b",
        "colab": {
          "base_uri": "https://localhost:8080/"
        }
      },
      "execution_count": 109,
      "outputs": [
        {
          "output_type": "stream",
          "name": "stdout",
          "text": [
            "lstm\n",
            "lstm\n",
            "lstm\n",
            "lstm\n",
            "Model: \"model_20\"\n",
            "__________________________________________________________________________________________________\n",
            " Layer (type)                   Output Shape         Param #     Connected to                     \n",
            "==================================================================================================\n",
            " input_92 (InputLayer)          [(None, None, 32)]   0           []                               \n",
            "                                                                                                  \n",
            " input_93 (InputLayer)          [(None, None, 25)]   0           []                               \n",
            "                                                                                                  \n",
            " encoder (RNN)                  [(None, 256),        821248      ['input_92[0][0]']               \n",
            "                                 [(None, 256),                                                    \n",
            "                                 (None, 256)],                                                    \n",
            "                                 [(None, 256),                                                    \n",
            "                                 (None, 256)]]                                                    \n",
            "                                                                                                  \n",
            " decoder (RNN)                  [(None, None, 256),  814080      ['input_93[0][0]',               \n",
            "                                 ListWrapper([(None               'encoder[0][1]',                \n",
            "                                , 256),                           'encoder[0][2]',                \n",
            "                                 (None, 256)]),                   'encoder[0][3]',                \n",
            "                                 ListWrapper([(None               'encoder[0][4]']                \n",
            "                                , 256),                                                           \n",
            "                                 (None, 256)])]                                                   \n",
            "                                                                                                  \n",
            " dense_24 (Dense)               (None, None, 25)     6425        ['decoder[0][0]']                \n",
            "                                                                                                  \n",
            "==================================================================================================\n",
            "Total params: 1,641,753\n",
            "Trainable params: 1,641,753\n",
            "Non-trainable params: 0\n",
            "__________________________________________________________________________________________________\n"
          ]
        }
      ]
    },
    {
      "cell_type": "code",
      "execution_count": 69,
      "metadata": {
        "colab": {
          "base_uri": "https://localhost:8080/"
        },
        "id": "g-_5EmV_AQed",
        "outputId": "8d1e0308-7dc8-4f80-c222-84376c6b26c7"
      },
      "outputs": [
        {
          "output_type": "stream",
          "name": "stdout",
          "text": [
            "[<KerasTensor: shape=(None, 256) dtype=float32 (created by layer 'rnn_18')>, [<KerasTensor: shape=(None, 256) dtype=float32 (created by layer 'rnn_18')>, <KerasTensor: shape=(None, 256) dtype=float32 (created by layer 'rnn_18')>], [<KerasTensor: shape=(None, 256) dtype=float32 (created by layer 'rnn_18')>, <KerasTensor: shape=(None, 256) dtype=float32 (created by layer 'rnn_18')>], [<KerasTensor: shape=(None, 256) dtype=float32 (created by layer 'rnn_18')>, <KerasTensor: shape=(None, 256) dtype=float32 (created by layer 'rnn_18')>], [<KerasTensor: shape=(None, 256) dtype=float32 (created by layer 'rnn_18')>, <KerasTensor: shape=(None, 256) dtype=float32 (created by layer 'rnn_18')>]]\n"
          ]
        }
      ],
      "source": [
        "# Define an input sequence and process it.\n",
        "encoder_inputs = keras.Input(shape=(None, num_encoder_tokens))\n",
        "encoder = tf.keras.layers.RNN(tf.keras.layers.StackedRNNCells( [lstm_cell() for _ in range(4)]), return_state = True)\n",
        "#encoder = keras.layers.LSTM(latent_dim, return_state=True)\n",
        "print(encoder(encoder_inputs))\n",
        "encoder_results = encoder(encoder_inputs)\n",
        "encoder_outputs, state = encoder_results[0], encoder_results[1:]\n",
        "\n",
        "# We discard `encoder_outputs` and only keep the states.\n",
        "encoder_states = state\n",
        "\n",
        "# Set up the decoder, using `encoder_states` as initial state.\n",
        "decoder_inputs = keras.Input(shape=(None, num_decoder_tokens))\n",
        "\n",
        "# We set up our decoder to return full output sequences,\n",
        "# and to return internal states as well. We don't use the\n",
        "# return states in the training model, but we will use them in inference.\n",
        "decoder_lstm = tf.keras.layers.RNN(tf.keras.layers.StackedRNNCells( [lstm_cell() for _ in range(4)]), return_sequences=True, return_state=True)\n",
        "decoder_results = decoder_lstm(decoder_inputs, initial_state=encoder_states)\n",
        "#decoder_lstm = keras.layers.LSTM(latent_dim, return_sequences=True, return_state=True)\n",
        "decoder_outputs, _ = decoder_results[0], decoder_results[1:]\n",
        "decoder_dense = keras.layers.Dense(num_decoder_tokens, activation=\"softmax\")\n",
        "decoder_outputs = decoder_dense(decoder_outputs)\n",
        "\n",
        "# Define the model that will turn\n",
        "# `encoder_input_data` & `decoder_input_data` into `decoder_target_data`\n",
        "model = keras.Model([encoder_inputs, decoder_inputs], decoder_outputs)\n"
      ]
    },
    {
      "cell_type": "code",
      "source": [
        "encoder_inputs"
      ],
      "metadata": {
        "id": "Hhh4FOd3BugJ",
        "outputId": "cab4b7e0-d40b-42b5-d17a-820b4a1c712f",
        "colab": {
          "base_uri": "https://localhost:8080/"
        }
      },
      "execution_count": 12,
      "outputs": [
        {
          "output_type": "execute_result",
          "data": {
            "text/plain": [
              "<KerasTensor: shape=(None, None, 32) dtype=float32 (created by layer 'input_2')>"
            ]
          },
          "metadata": {},
          "execution_count": 12
        }
      ]
    },
    {
      "cell_type": "code",
      "source": [
        "model.summary()"
      ],
      "metadata": {
        "colab": {
          "base_uri": "https://localhost:8080/"
        },
        "id": "i_bq6OKSEIew",
        "outputId": "1a52cddd-42d2-4268-c9b1-0d28f125270b"
      },
      "execution_count": null,
      "outputs": [
        {
          "output_type": "stream",
          "name": "stdout",
          "text": [
            "Model: \"model_15\"\n",
            "__________________________________________________________________________________________________\n",
            " Layer (type)                   Output Shape         Param #     Connected to                     \n",
            "==================================================================================================\n",
            " input_54 (InputLayer)          [(None, None, 32)]   0           []                               \n",
            "                                                                                                  \n",
            " input_55 (InputLayer)          [(None, None, 25)]   0           []                               \n",
            "                                                                                                  \n",
            " rnn_43 (RNN)                   [(None, 256),        1871872     ['input_54[0][0]']               \n",
            "                                 [(None, 256),                                                    \n",
            "                                 (None, 256)],                                                    \n",
            "                                 [(None, 256),                                                    \n",
            "                                 (None, 256)],                                                    \n",
            "                                 [(None, 256),                                                    \n",
            "                                 (None, 256)],                                                    \n",
            "                                 [(None, 256),                                                    \n",
            "                                 (None, 256)]]                                                    \n",
            "                                                                                                  \n",
            " rnn_44 (RNN)                   [(None, None, 256),  1864704     ['input_55[0][0]',               \n",
            "                                 [(None, 256),                    'rnn_43[1][1]',                 \n",
            "                                 (None, 256)],                    'rnn_43[1][2]',                 \n",
            "                                 [(None, 256),                    'rnn_43[1][3]',                 \n",
            "                                 (None, 256)],                    'rnn_43[1][4]',                 \n",
            "                                 [(None, 256),                    'rnn_43[1][5]',                 \n",
            "                                 (None, 256)],                    'rnn_43[1][6]',                 \n",
            "                                 [(None, 256),                    'rnn_43[1][7]',                 \n",
            "                                 (None, 256)]]                    'rnn_43[1][8]']                 \n",
            "                                                                                                  \n",
            " dense_13 (Dense)               (None, None, 25)     6425        ['rnn_44[0][0]']                 \n",
            "                                                                                                  \n",
            "==================================================================================================\n",
            "Total params: 3,743,001\n",
            "Trainable params: 3,743,001\n",
            "Non-trainable params: 0\n",
            "__________________________________________________________________________________________________\n"
          ]
        }
      ]
    },
    {
      "cell_type": "code",
      "source": [
        "model.summary()"
      ],
      "metadata": {
        "colab": {
          "base_uri": "https://localhost:8080/"
        },
        "id": "HOlv5F1KD6pZ",
        "outputId": "b1619631-397a-4bff-a21b-e674bd7481e2"
      },
      "execution_count": null,
      "outputs": [
        {
          "output_type": "stream",
          "name": "stdout",
          "text": [
            "Model: \"model_15\"\n",
            "__________________________________________________________________________________________________\n",
            " Layer (type)                   Output Shape         Param #     Connected to                     \n",
            "==================================================================================================\n",
            " input_54 (InputLayer)          [(None, None, 32)]   0           []                               \n",
            "                                                                                                  \n",
            " input_55 (InputLayer)          [(None, None, 25)]   0           []                               \n",
            "                                                                                                  \n",
            " rnn_43 (RNN)                   [(None, 256),        1871872     ['input_54[0][0]']               \n",
            "                                 [(None, 256),                                                    \n",
            "                                 (None, 256)],                                                    \n",
            "                                 [(None, 256),                                                    \n",
            "                                 (None, 256)],                                                    \n",
            "                                 [(None, 256),                                                    \n",
            "                                 (None, 256)],                                                    \n",
            "                                 [(None, 256),                                                    \n",
            "                                 (None, 256)]]                                                    \n",
            "                                                                                                  \n",
            " rnn_44 (RNN)                   [(None, None, 256),  1864704     ['input_55[0][0]',               \n",
            "                                 [(None, 256),                    'rnn_43[1][1]',                 \n",
            "                                 (None, 256)],                    'rnn_43[1][2]',                 \n",
            "                                 [(None, 256),                    'rnn_43[1][3]',                 \n",
            "                                 (None, 256)],                    'rnn_43[1][4]',                 \n",
            "                                 [(None, 256),                    'rnn_43[1][5]',                 \n",
            "                                 (None, 256)],                    'rnn_43[1][6]',                 \n",
            "                                 [(None, 256),                    'rnn_43[1][7]',                 \n",
            "                                 (None, 256)]]                    'rnn_43[1][8]']                 \n",
            "                                                                                                  \n",
            " dense_13 (Dense)               (None, None, 25)     6425        ['rnn_44[0][0]']                 \n",
            "                                                                                                  \n",
            "==================================================================================================\n",
            "Total params: 3,743,001\n",
            "Trainable params: 3,743,001\n",
            "Non-trainable params: 0\n",
            "__________________________________________________________________________________________________\n"
          ]
        }
      ]
    },
    {
      "cell_type": "markdown",
      "metadata": {
        "id": "HXZ2_xdsAQee"
      },
      "source": [
        "## Train the model\n"
      ]
    },
    {
      "cell_type": "code",
      "source": [
        "batch_size = 3\n",
        "sentence_max_length = 5\n",
        "n_features = 2\n",
        "new_shape = (batch_size, sentence_max_length, n_features)\n",
        "x = tf.constant(np.reshape(np.arange(30), new_shape), dtype = tf.float32)\n",
        "\n",
        "rnn_cells = [tf.keras.layers.LSTMCell(128) for _ in range(2)]\n",
        "stacked_lstm = tf.keras.layers.StackedRNNCells(rnn_cells)\n",
        "lstm_layer = tf.keras.layers.RNN(stacked_lstm, return_state = True)\n",
        "\n",
        "result = lstm_layer(x)\n",
        "print(len(result))"
      ],
      "metadata": {
        "colab": {
          "base_uri": "https://localhost:8080/"
        },
        "id": "qLnuzHoZHROu",
        "outputId": "26167dd6-3e54-4bae-c84d-14041e8f18d4"
      },
      "execution_count": null,
      "outputs": [
        {
          "output_type": "stream",
          "name": "stdout",
          "text": [
            "3\n"
          ]
        }
      ]
    },
    {
      "cell_type": "code",
      "execution_count": null,
      "metadata": {
        "colab": {
          "base_uri": "https://localhost:8080/"
        },
        "id": "ox_fyYUrAQef",
        "outputId": "a8379ee0-8aac-44cc-9968-c586e4eb3de6"
      },
      "outputs": [
        {
          "output_type": "stream",
          "name": "stdout",
          "text": [
            "Epoch 1/2\n",
            "27/27 [==============================] - 18s 401ms/step - loss: 0.9256 - accuracy: 0.1262 - val_loss: 1.7578 - val_accuracy: 0.2225\n",
            "Epoch 2/2\n",
            "27/27 [==============================] - 10s 377ms/step - loss: 0.8131 - accuracy: 0.1513 - val_loss: 1.7129 - val_accuracy: 0.2100\n"
          ]
        },
        {
          "output_type": "stream",
          "name": "stderr",
          "text": [
            "WARNING:absl:Found untraced functions such as lstm_cell_399_layer_call_fn, lstm_cell_399_layer_call_and_return_conditional_losses, lstm_cell_400_layer_call_fn, lstm_cell_400_layer_call_and_return_conditional_losses, lstm_cell_401_layer_call_fn while saving (showing 5 of 16). These functions will not be directly callable after loading.\n"
          ]
        },
        {
          "output_type": "stream",
          "name": "stdout",
          "text": [
            "INFO:tensorflow:Assets written to: s2s/assets\n"
          ]
        },
        {
          "output_type": "stream",
          "name": "stderr",
          "text": [
            "INFO:tensorflow:Assets written to: s2s/assets\n"
          ]
        }
      ],
      "source": [
        "model.compile(\n",
        "    optimizer=\"rmsprop\", loss=\"categorical_crossentropy\", metrics=[\"accuracy\"]\n",
        ")\n",
        "model.fit(\n",
        "    [encoder_input_data, decoder_input_data],\n",
        "    decoder_target_data,\n",
        "    batch_size=batch_size,\n",
        "    epochs=2,\n",
        "    validation_split=0.2,\n",
        ")\n",
        "# Save model\n",
        "model.save(\"s2s\")\n"
      ]
    },
    {
      "cell_type": "markdown",
      "metadata": {
        "id": "BC5CbwHlAQef"
      },
      "source": [
        "## Run inference (sampling)\n",
        "\n",
        "1. encode input and retrieve initial decoder state\n",
        "2. run one step of decoder with this initial state\n",
        "and a \"start of sequence\" token as target.\n",
        "Output will be the next target token.\n",
        "3. Repeat with the current target token and current states\n"
      ]
    },
    {
      "cell_type": "code",
      "execution_count": null,
      "metadata": {
        "id": "meuadqgkAQeg"
      },
      "outputs": [],
      "source": [
        "# Define sampling models\n",
        "# Restore the model and construct the encoder and decoder.\n",
        "model = keras.models.load_model(\"s2s\")\n",
        "\n",
        "encoder_inputs = model.input[0]  # input_1\n",
        "temp = model.layers[2].output\n",
        "encoder_outputs, state = temp[0], temp[1:]  # lstm_1\n",
        "encoder_states = state\n",
        "encoder_model = keras.Model(encoder_inputs, encoder_states)\n",
        "\n",
        "decoder_inputs = model.input[1]  # input_2\n",
        "decoder_state_input_h = keras.Input(shape=(latent_dim,))\n",
        "decoder_state_input_c = keras.Input(shape=(latent_dim,))\n",
        "decoder_states_inputs = state\n",
        "decoder_lstm = model.layers[3]\n",
        "temp = decoder_lstm(decoder_inputs, initial_state=decoder_states_inputs)\n",
        "decoder_outputs, state_dec = temp[0], temp[1:]\n",
        "decoder_states = state_dec\n",
        "decoder_dense = model.layers[4]\n",
        "decoder_outputs = decoder_dense(decoder_outputs)\n",
        "decoder_model = keras.Model(\n",
        "    [decoder_inputs] + decoder_states_inputs, [decoder_outputs] + decoder_states\n",
        ")\n",
        "\n",
        "# Reverse-lookup token index to decode sequences back to\n",
        "# something readable.\n",
        "reverse_input_char_index = dict((i, char) for char, i in input_token_index.items())\n",
        "reverse_target_char_index = dict((i, char) for char, i in target_token_index.items())\n",
        "\n",
        "\n",
        "def decode_sequence(input_seq):\n",
        "    # Encode the input as state vectors.\n",
        "    states_value = encoder_model.predict(input_seq)\n",
        "\n",
        "    # Generate empty target sequence of length 1.\n",
        "    target_seq = np.zeros((1, 1, num_decoder_tokens))\n",
        "    # Populate the first character of target sequence with the start character.\n",
        "    target_seq[0, 0, target_token_index[\"\\t\"]] = 1.0\n",
        "\n",
        "    # Sampling loop for a batch of sequences\n",
        "    # (to simplify, here we assume a batch of size 1).\n",
        "    stop_condition = False\n",
        "    decoded_sentence = \"\"\n",
        "    while not stop_condition:\n",
        "        temp = decoder_model.predict([target_seq] + states_value)\n",
        "        output_tokens, state = temp[0],temp[1:]\n",
        "\n",
        "        # Sample a token\n",
        "        sampled_token_index = np.argmax(output_tokens[0, -1, :])\n",
        "        sampled_char = reverse_target_char_index[sampled_token_index]\n",
        "        decoded_sentence += sampled_char\n",
        "\n",
        "        # Exit condition: either hit max length\n",
        "        # or find stop character.\n",
        "        if sampled_char == \"\\n\" or len(decoded_sentence) > max_decoder_seq_length:\n",
        "            stop_condition = True\n",
        "\n",
        "        # Update the target sequence (of length 1).\n",
        "        target_seq = np.zeros((1, 1, num_decoder_tokens))\n",
        "        target_seq[0, 0, sampled_token_index] = 1.0\n",
        "\n",
        "        # Update states\n",
        "        states_value = state\n",
        "    return decoded_sentence\n",
        "\n"
      ]
    },
    {
      "cell_type": "markdown",
      "metadata": {
        "id": "nSNoQ5AvAQeh"
      },
      "source": [
        "You can now generate decoded sentences as such:\n"
      ]
    },
    {
      "cell_type": "code",
      "execution_count": null,
      "metadata": {
        "colab": {
          "base_uri": "https://localhost:8080/"
        },
        "id": "wjp__2oJAQeh",
        "outputId": "e279c214-a8aa-4ce9-a6eb-1266c6fd36b7"
      },
      "outputs": [
        {
          "output_type": "stream",
          "name": "stdout",
          "text": [
            "WARNING:tensorflow:5 out of the last 443 calls to <function Model.make_predict_function.<locals>.predict_function at 0x7fe788eb74d0> triggered tf.function retracing. Tracing is expensive and the excessive number of tracings could be due to (1) creating @tf.function repeatedly in a loop, (2) passing tensors with different shapes, (3) passing Python objects instead of tensors. For (1), please define your @tf.function outside of the loop. For (2), @tf.function has experimental_relax_shapes=True option that relaxes argument shapes that can avoid unnecessary retracing. For (3), please refer to https://www.tensorflow.org/guide/function#controlling_retracing and https://www.tensorflow.org/api_docs/python/tf/function for  more details.\n"
          ]
        },
        {
          "output_type": "stream",
          "name": "stderr",
          "text": [
            "WARNING:tensorflow:5 out of the last 443 calls to <function Model.make_predict_function.<locals>.predict_function at 0x7fe788eb74d0> triggered tf.function retracing. Tracing is expensive and the excessive number of tracings could be due to (1) creating @tf.function repeatedly in a loop, (2) passing tensors with different shapes, (3) passing Python objects instead of tensors. For (1), please define your @tf.function outside of the loop. For (2), @tf.function has experimental_relax_shapes=True option that relaxes argument shapes that can avoid unnecessary retracing. For (3), please refer to https://www.tensorflow.org/guide/function#controlling_retracing and https://www.tensorflow.org/api_docs/python/tf/function for  more details.\n"
          ]
        },
        {
          "output_type": "stream",
          "name": "stdout",
          "text": [
            "-\n",
            "Input sentence: अं\n",
            "Decoded sentence: anna\n",
            "\n",
            "-\n",
            "Input sentence: अंकगणित\n",
            "Decoded sentence: annar\n",
            "\n",
            "-\n",
            "Input sentence: अंकल\n",
            "Decoded sentence: anna\n",
            "\n",
            "-\n",
            "Input sentence: अंकुर\n",
            "Decoded sentence: anna\n",
            "\n",
            "-\n",
            "Input sentence: अंकुरण\n",
            "Decoded sentence: anna\n",
            "\n",
            "-\n",
            "Input sentence: अंकुरित\n",
            "Decoded sentence: anna\n",
            "\n",
            "-\n",
            "Input sentence: अंकुश\n",
            "Decoded sentence: anna\n",
            "\n",
            "-\n",
            "Input sentence: अंकुश\n",
            "Decoded sentence: anna\n",
            "\n",
            "-\n",
            "Input sentence: अंग\n",
            "Decoded sentence: annar\n",
            "\n",
            "-\n",
            "Input sentence: अंग\n",
            "Decoded sentence: annar\n",
            "\n",
            "-\n",
            "Input sentence: अंगद\n",
            "Decoded sentence: annar\n",
            "\n",
            "-\n",
            "Input sentence: अंगद\n",
            "Decoded sentence: annar\n",
            "\n",
            "-\n",
            "Input sentence: अंगने\n",
            "Decoded sentence: annar\n",
            "\n",
            "-\n",
            "Input sentence: अंगभंग\n",
            "Decoded sentence: annar\n",
            "\n",
            "-\n",
            "Input sentence: अंगरक्षक\n",
            "Decoded sentence: annar\n",
            "\n",
            "-\n",
            "Input sentence: अंगरक्षक\n",
            "Decoded sentence: annar\n",
            "\n",
            "-\n",
            "Input sentence: अंगारा\n",
            "Decoded sentence: annar\n",
            "\n",
            "-\n",
            "Input sentence: अंगारे\n",
            "Decoded sentence: annar\n",
            "\n",
            "-\n",
            "Input sentence: अंगारे\n",
            "Decoded sentence: annar\n",
            "\n",
            "-\n",
            "Input sentence: अंगी\n",
            "Decoded sentence: annar\n",
            "\n"
          ]
        }
      ],
      "source": [
        "for seq_index in range(20):\n",
        "    # Take one sequence (part of the training set)\n",
        "    # for trying out decoding.\n",
        "    input_seq = encoder_input_data[seq_index : seq_index + 1]\n",
        "    decoded_sentence = decode_sequence(input_seq)\n",
        "    print(\"-\")\n",
        "    print(\"Input sentence:\", input_texts[seq_index])\n",
        "    print(\"Decoded sentence:\", decoded_sentence)\n"
      ]
    },
    {
      "cell_type": "code",
      "source": [
        ""
      ],
      "metadata": {
        "id": "ygwmClalB8vI"
      },
      "execution_count": null,
      "outputs": []
    }
  ],
  "metadata": {
    "colab": {
      "collapsed_sections": [],
      "name": "seq2seq",
      "provenance": [],
      "include_colab_link": true
    },
    "kernelspec": {
      "display_name": "Python 3",
      "language": "python",
      "name": "python3"
    },
    "language_info": {
      "codemirror_mode": {
        "name": "ipython",
        "version": 3
      },
      "file_extension": ".py",
      "mimetype": "text/x-python",
      "name": "python",
      "nbconvert_exporter": "python",
      "pygments_lexer": "ipython3",
      "version": "3.7.0"
    }
  },
  "nbformat": 4,
  "nbformat_minor": 0
}